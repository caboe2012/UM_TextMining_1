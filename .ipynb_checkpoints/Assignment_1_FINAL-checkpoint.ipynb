{
 "cells": [
  {
   "cell_type": "markdown",
   "metadata": {},
   "source": [
    "---\n",
    "\n",
    "_You are currently looking at **version 1.0** of this notebook. To download notebooks and datafiles, as well as get help on Jupyter notebooks in the Coursera platform, visit the [Jupyter Notebook FAQ](https://www.coursera.org/learn/python-text-mining/resources/d9pwm) course resource._\n",
    "\n",
    "---"
   ]
  },
  {
   "cell_type": "markdown",
   "metadata": {},
   "source": [
    "# Assignment 1\n",
    "\n",
    "In this assignment, you'll be working with messy medical data and using regex to extract relevant infromation from the data. \n",
    "\n",
    "Each line of the `dates.txt` file corresponds to a medical note. Each note has a date that needs to be extracted, but each date is encoded in one of many formats.\n",
    "\n",
    "The goal of this assignment is to correctly identify all of the different date variants encoded in this dataset and to properly normalize and sort the dates. \n",
    "\n",
    "Here is a list of some of the variants you might encounter in this dataset:\n",
    "* 04/20/2009; 04/20/09; 4/20/09; 4/3/09\n",
    "* Mar-20-2009; Mar 20, 2009; March 20, 2009;  Mar. 20, 2009; Mar 20 2009;\n",
    "* 20 Mar 2009; 20 March 2009; 20 Mar. 2009; 20 March, 2009\n",
    "* Mar 20th, 2009; Mar 21st, 2009; Mar 22nd, 2009\n",
    "* Feb 2009; Sep 2009; Oct 2010\n",
    "* 6/2008; 12/2009\n",
    "* 2009; 2010\n",
    "\n",
    "Once you have extracted these date patterns from the text, the next step is to sort them in ascending chronological order accoring to the following rules:\n",
    "* Assume all dates in xx/xx/xx format are mm/dd/yy\n",
    "* Assume all dates where year is encoded in only two digits are years from the 1900's (e.g. 1/5/89 is January 5th, 1989)\n",
    "* If the day is missing (e.g. 9/2009), assume it is the first day of the month (e.g. September 1, 2009).\n",
    "* If the month is missing (e.g. 2010), assume it is the first of January of that year (e.g. January 1, 2010).\n",
    "\n",
    "With these rules in mind, find the correct date in each note and return a pandas Series in chronological order of the original Series' indices.\n",
    "\n",
    "For example if the original series was this:\n",
    "\n",
    "    0    1999\n",
    "    1    2010\n",
    "    2    1978\n",
    "    3    2015\n",
    "    4    1985\n",
    "\n",
    "Your function should return this:\n",
    "\n",
    "    0    2\n",
    "    1    4\n",
    "    2    0\n",
    "    3    1\n",
    "    4    3\n",
    "\n",
    "Your score will be calculated using [Kendall's tau](https://en.wikipedia.org/wiki/Kendall_rank_correlation_coefficient), a correlation measure for ordinal data.\n",
    "\n",
    "*This function should return a Series of length 500 and dtype int.*"
   ]
  },
  {
   "cell_type": "markdown",
   "metadata": {},
   "source": [
    "## Import the raw data"
   ]
  },
  {
   "cell_type": "code",
   "execution_count": 1,
   "metadata": {
    "collapsed": false
   },
   "outputs": [
    {
     "data": {
      "text/plain": [
       "0         03/25/93 Total time of visit (in minutes):\\n\n",
       "1                       6/18/85 Primary Care Doctor:\\n\n",
       "2    sshe plans to move as of 7/8/71 In-Home Servic...\n",
       "3                7 on 9/27/75 Audit C Score Current:\\n\n",
       "4    2/6/96 sleep studyPain Treatment Pain Level (N...\n",
       "5                    .Per 7/06/79 Movement D/O note:\\n\n",
       "6    4, 5/18/78 Patient's thoughts about current su...\n",
       "7    10/24/89 CPT Code: 90801 - Psychiatric Diagnos...\n",
       "8                         3/7/86 SOS-10 Total Score:\\n\n",
       "9             (4/10/71)Score-1Audit C Score Current:\\n\n",
       "dtype: object"
      ]
     },
     "execution_count": 1,
     "metadata": {},
     "output_type": "execute_result"
    }
   ],
   "source": [
    "import pandas as pd\n",
    "import re\n",
    "\n",
    "doc = []\n",
    "with open('dates.txt') as file:\n",
    "    for line in file:\n",
    "        doc.append(line)\n",
    "\n",
    "df = pd.Series(doc)\n",
    "test = df[:]\n",
    "df.head(10)"
   ]
  },
  {
   "cell_type": "markdown",
   "metadata": {},
   "source": [
    "### Helper Functions"
   ]
  },
  {
   "cell_type": "code",
   "execution_count": 2,
   "metadata": {
    "collapsed": true
   },
   "outputs": [],
   "source": [
    "def count_empties(this_df):\n",
    "    counter = 0\n",
    "    for each in this_df:\n",
    "        if (each == []) or (type(each) == str):\n",
    "            counter+=1\n",
    "    print('Dates Missing {}'.format(counter))\n",
    "    found = this_df.shape[0] - counter\n",
    "    print('Dates Found {}'.format(found))"
   ]
  },
  {
   "cell_type": "code",
   "execution_count": 3,
   "metadata": {
    "collapsed": true
   },
   "outputs": [],
   "source": [
    "def merge_found(x,y):\n",
    "    if x == []:\n",
    "        return y\n",
    "    else:\n",
    "        return x "
   ]
  },
  {
   "cell_type": "code",
   "execution_count": 4,
   "metadata": {
    "collapsed": true
   },
   "outputs": [],
   "source": [
    "def not_null(a,b):\n",
    "    if a.isnull():\n",
    "        return b\n",
    "    else:\n",
    "        return a"
   ]
  },
  {
   "cell_type": "code",
   "execution_count": 5,
   "metadata": {
    "collapsed": true
   },
   "outputs": [],
   "source": [
    "def merge_missing(a,b):\n",
    "    if type(a) == list:\n",
    "        return a\n",
    "    else:\n",
    "        return b"
   ]
  },
  {
   "cell_type": "code",
   "execution_count": 6,
   "metadata": {
    "collapsed": true
   },
   "outputs": [],
   "source": [
    "def insert_missing(got_it,missing):\n",
    "    if len(got_it) == 0:\n",
    "        return missing\n",
    "        return got_it"
   ]
  },
  {
   "cell_type": "code",
   "execution_count": 7,
   "metadata": {
    "collapsed": true
   },
   "outputs": [],
   "source": [
    "def get_good_index(temp_df):\n",
    "    cnt = 0\n",
    "    good_index = []\n",
    "    for entry,idx in zip(temp_df,temp_df.index.tolist()):\n",
    "        if type(entry) == list:\n",
    "            if len(entry) > 0:\n",
    "                print(entry)\n",
    "                cnt += 1\n",
    "                good_index.append(idx)\n",
    "    return(good_index)"
   ]
  },
  {
   "cell_type": "markdown",
   "metadata": {},
   "source": [
    "### Create Final DF for Sorting"
   ]
  },
  {
   "cell_type": "code",
   "execution_count": 8,
   "metadata": {
    "collapsed": false
   },
   "outputs": [],
   "source": [
    "final_df = df[:]"
   ]
  },
  {
   "cell_type": "markdown",
   "metadata": {},
   "source": [
    "### First Iteration: Find the Month / Day / Year formats"
   ]
  },
  {
   "cell_type": "code",
   "execution_count": 9,
   "metadata": {
    "collapsed": true
   },
   "outputs": [],
   "source": [
    "# m(m)/d(d)/yy(yy), m(m)/d(d)/yy\n",
    "# numbers only: 125\n",
    "nums_only = r'\\d{1,2}[/-]\\d{1,2}[/-]\\d{2,4}'\n",
    "nums_only_df = final_df.str.findall(nums_only)"
   ]
  },
  {
   "cell_type": "code",
   "execution_count": 10,
   "metadata": {
    "collapsed": false
   },
   "outputs": [],
   "source": [
    "#nums_only_df[:50]"
   ]
  },
  {
   "cell_type": "code",
   "execution_count": 11,
   "metadata": {
    "collapsed": false
   },
   "outputs": [],
   "source": [
    "#count_empties(nums_only_df)"
   ]
  },
  {
   "cell_type": "code",
   "execution_count": 12,
   "metadata": {
    "collapsed": false
   },
   "outputs": [
    {
     "name": "stdout",
     "output_type": "stream",
     "text": [
      "['03/25/93']\n",
      "['6/18/85']\n",
      "['7/8/71']\n",
      "['9/27/75']\n",
      "['2/6/96']\n",
      "['7/06/79']\n",
      "['5/18/78']\n",
      "['10/24/89']\n",
      "['3/7/86']\n",
      "['4/10/71']\n",
      "['5/11/85']\n",
      "['4/09/75']\n",
      "['8/01/98']\n",
      "['1/26/72']\n",
      "['5/24/1990']\n",
      "['1/25/2011']\n",
      "['4/12/82']\n",
      "['10/13/1976']\n",
      "['4/24/98']\n",
      "['5/21/77']\n",
      "['7/21/98']\n",
      "['10/21/79']\n",
      "['3/03/90']\n",
      "['2/11/76']\n",
      "['07/25/1984']\n",
      "['4-13-82']\n",
      "['9/22/89']\n",
      "['9/02/76']\n",
      "['9/12/71']\n",
      "['10/24/86']\n",
      "['03/31/1985']\n",
      "['7/20/72']\n",
      "['4/12/87']\n",
      "['06/20/91']\n",
      "['5/12/2012']\n",
      "['3/15/83']\n",
      "['2/14/73']\n",
      "['5/24/88']\n",
      "['7/27/1986']\n",
      "['1-14-81']\n",
      "['7-29-75']\n",
      "['6/24/87']\n",
      "['8/14/94']\n",
      "['4/13/2002']\n",
      "['8/16/82']\n",
      "['2/15/1998']\n",
      "['7/15/91']\n",
      "['06/12/94']\n",
      "['9/17/84']\n",
      "['2/28/75']\n",
      "['11/22/75']\n",
      "['5/24/91']\n",
      "['6/13/92']\n",
      "['7/11/71']\n",
      "['12/26/86']\n",
      "['10/11/1987']\n",
      "['3/14/95']\n",
      "['12/01/73']\n",
      "['12/5/2010']\n",
      "['08/20/1982']\n",
      "['7/24/95']\n",
      "['8/06/83']\n",
      "['02/22/92']\n",
      "['6/28/87']\n",
      "['07/29/1994']\n",
      "['08/11/78']\n",
      "['10/29/91']\n",
      "['7/6/91']\n",
      "['1/21/87']\n",
      "['11/3/1985']\n",
      "['7/04/82']\n",
      "['4-13-89']\n",
      "['7/11/77', '9/36/308']\n",
      "['4/12/74']\n",
      "['09/19/81']\n",
      "['9/6/79']\n",
      "['12/5/87']\n",
      "['01/05/1999']\n",
      "['4/22/80']\n",
      "['10/04/98']\n",
      "['6/29/81']\n",
      "['8/04/78']\n",
      "['7/07/1974']\n",
      "['09/14/2000']\n",
      "['5/18/71']\n",
      "['8/09/1981']\n",
      "['6/05/93']\n",
      "['8/9/97']\n",
      "['12/8/82']\n",
      "['8/26/89']\n",
      "['10/13/95']\n",
      "['4/19/91']\n",
      "['04/08/2004']\n",
      "['9/20/76']\n",
      "['12/08/1990']\n",
      "['4/11/1974']\n",
      "['7/18/86']\n",
      "['3/31/91']\n",
      "['5/13/72']\n",
      "['11/14/83']\n",
      "['8/16/92']\n",
      "['10/05/97']\n",
      "['07/18/2002']\n",
      "['9/22/82']\n",
      "['2/24/74']\n",
      "['2/03/78']\n",
      "['2/11/2006']\n",
      "['8/22/83']\n",
      "['5/04/74']\n",
      "['7/20/2011']\n",
      "['6/17/95']\n",
      "['6/10/72']\n",
      "['10/16/82']\n",
      "['12/15/92']\n",
      "['12/8/97']\n",
      "['4/05/89']\n",
      "['12/04/87']\n",
      "['6/20/77']\n",
      "['4/27/2006']\n",
      "['07/17/92']\n",
      "['12/22/98']\n",
      "['10/02/96']\n",
      "['11/05/90']\n",
      "['5/04/77']\n",
      "['2/27/96']\n"
     ]
    }
   ],
   "source": [
    "# add nums_only dates to final_DF\n",
    "nums_only_good_index = get_good_index(nums_only_df)\n",
    "final_df[nums_only_good_index] = nums_only_df[nums_only_good_index]"
   ]
  },
  {
   "cell_type": "code",
   "execution_count": 13,
   "metadata": {
    "collapsed": false
   },
   "outputs": [],
   "source": [
    "# check results\n",
    "#final_df"
   ]
  },
  {
   "cell_type": "markdown",
   "metadata": {},
   "source": [
    "### Second Iteration: Find Alpha Numeric Dates"
   ]
  },
  {
   "cell_type": "code",
   "execution_count": 14,
   "metadata": {
    "collapsed": false
   },
   "outputs": [],
   "source": [
    "# to grab dates with Month at the beginning\n",
    "#alpha_present = r'(?:\\d{1,2} )?(?:Jan|Feb|Mar|Apr|May|June|July|Aug|Sep|Oct|Nov|Dec)[a-z]* (?:\\d{2}, )?\\d{4}'\n",
    "#alpha_present = r'(?:\\d{,2} )?(?:Jan|Feb|Mar|Apr|May|June|July|Aug|Sep|Oct|Nov|Dec)[a-z,.-]*[\\s]*(?:\\d{,2}[stndth,-]*[\\s]*)?\\d{4}'\n",
    "alpha_v2 = r'(?:\\d{,2} )?(?:Jan|Feb|Mar|Apr|May|June|Jun|Jul|July|Aug|Sep|Sept|Oct|Nov|Dec)[a-z,.-]*[\\s]*(?:\\d{,2}[stndth,-]*[\\s]*)?\\d{4}'\n",
    "alpha_present_df = final_df.str.findall(alpha_v2)\n",
    "#count_empties(alpha_present_df)"
   ]
  },
  {
   "cell_type": "code",
   "execution_count": 15,
   "metadata": {
    "collapsed": false
   },
   "outputs": [
    {
     "name": "stdout",
     "output_type": "stream",
     "text": [
      "['24 Jan 2001']\n",
      "['10 Sep 2004']\n",
      "['26 May 1982']\n",
      "['28 June 2002']\n",
      "['06 May 1972']\n",
      "['25 Oct 1987']\n",
      "['14 Oct 1996']\n",
      "['30 Nov 2007']\n",
      "['28 June 1994']\n",
      "['14 Jan 1981']\n",
      "['10 Oct 1985']\n",
      "['11 February 1985']\n",
      "['10 Feb 1983']\n",
      "['05 Feb 1992']\n",
      "['21 Oct 2012']\n",
      "['14 Feb 1995']\n",
      "['30 May 2016']\n",
      "['22 Jan 1996']\n",
      "['14 Oct 1992']\n",
      "['06 Oct 2003']\n",
      "['18 Oct 1999']\n",
      "['11 Nov 2004']\n",
      "['30 May 2001']\n",
      "['02 Feb 1978']\n",
      "['09 Sep 1989']\n",
      "['12 March 1980']\n",
      "['22 June 1990']\n",
      "['28 Sep 2015']\n",
      "['13 Jan 1972']\n",
      "['06 Mar 1974']\n",
      "['10 Oct 1974']\n",
      "['26 May 1974']\n",
      "['10 Feb 1990']\n",
      "['23 Aug 2000']\n",
      "['26 May 2001']\n",
      "['21 Oct 2007']\n",
      "['19 Oct 2016']\n",
      "['05 Mar 1974']\n",
      "['29 Jan 1994']\n",
      "['21 Oct 1978']\n",
      "['18 August 1975']\n",
      "['11 Nov 1996']\n",
      "['01 Oct 1979']\n",
      "['13 Oct 1986']\n",
      "['21 Oct 1995']\n",
      "['24 Jan 2011']\n",
      "['04 Oct 1972']\n",
      "['23 Aug 1993']\n",
      "['18 Oct 2006']\n",
      "['04 Dec 1988']\n",
      "['21 Oct 1983']\n",
      "['26 May 2010']\n",
      "['18 Jan 1990']\n",
      "['15 Jun 1985']\n",
      "['10 Dec 1982']\n",
      "['09 Dec 1988']\n",
      "['18 August 1995']\n",
      "['13 June 1974']\n",
      "['26 May 2008']\n",
      "['11 Nov 2002']\n",
      "['17 Aug 1985']\n",
      "['13 Oct 2016']\n",
      "['14 Jan 2008']\n",
      "['12 March 2004']\n",
      "['21 Oct 1977']\n",
      "['10 Aug 2000']\n",
      "['30 Nov 1972']\n",
      "['06 May 1993']\n",
      "['18 Jan 1995']\n",
      "['April 11, 1990']\n",
      "[' May 30, 2001']\n",
      "['Feb 18, 1994']\n",
      "[' February 18, 1981']\n",
      "[' October. 11, 2013']\n",
      "[' Jan 24 1986']\n",
      "['July 26, 1978']\n",
      "[' December 23, 1999']\n",
      "['May 15, 1989']\n",
      "['September 06, 1995']\n",
      "['Mar. 10, 1976']\n",
      "[' Jan 27, 1983']\n",
      "[' October 23 1990']\n",
      "[' August 12 2004']\n",
      "['September 01, 2012']\n",
      "['July 25, 1983']\n",
      "['August 11, 1989']\n",
      "['April 17, 1992']\n",
      "[' July 24, 1999']\n",
      "['July 11, 1997']\n",
      "[' Sep. 10, 1974']\n",
      "['August 14, 1981']\n",
      "['Nov 11, 1988']\n",
      "[' June 13, 2011']\n",
      "['May 14, 1989']\n",
      "[' Dec 14 1975']\n",
      "[' June 25, 2012']\n",
      "['Oct 18, 1980']\n",
      "['May 15, 1998']\n",
      "[' October 14 1974']\n",
      "['July 25, 1998']\n",
      "['June 15, 1972']\n",
      "[' January 07, 1991']\n",
      "['September. 15, 2011']\n",
      "[' September 1985']\n",
      "['June 2011']\n",
      "[' May 1986']\n",
      "[' May 2016']\n",
      "[' July 1977']\n",
      "[' July, 1990']\n",
      "[' Jul 2003']\n",
      "['Oct 2015']\n",
      "[' May 1995']\n",
      "[' February 1976']\n",
      "[' January 1995']\n",
      "[' Feb 1978']\n",
      "[' May, 2011']\n",
      "[' May 2004']\n",
      "[' Nov 2010']\n",
      "[' Sep 2012']\n",
      "[' January, 2013']\n",
      "['November 1990']\n",
      "[' July 1981']\n",
      "['May 1983']\n",
      "[' July 1995']\n",
      "[' April 1993']\n",
      "['May 2005']\n",
      "['December 1998']\n",
      "[' Jan 2007']\n",
      "[' Feb 2016']\n",
      "[' August 1979']\n",
      "[' Oct 2014']\n",
      "['Aug 1988']\n",
      "[' Sep 2015']\n",
      "[' Apr 1976']\n",
      "[' Nov 1979']\n",
      "[' February 2000']\n",
      "[' Oct 1986']\n",
      "[' Jun 2002']\n",
      "[' September 1981']\n",
      "[' June 2007']\n",
      "[' April 1989']\n",
      "['September 1999']\n",
      "[' Oct 1980']\n",
      "[' Dec 2009']\n",
      "[' July 1992']\n",
      "['May, 2006']\n",
      "[' August 2008']\n",
      "[' Feb 1993']\n",
      "[' February, 2010']\n",
      "[' April 1985']\n",
      "[' September 1984']\n",
      "['April 1986']\n",
      "[' Apr 2007']\n",
      "[' September 1974']\n",
      "[' Sep 2013']\n",
      "[' July 1985']\n",
      "['Aug 2004']\n",
      "[' May 2012']\n",
      "['Feb 1977']\n",
      "[' Jan 1987']\n",
      "['Sep 1983']\n",
      "[' January 2013']\n",
      "[' Mar 2010']\n",
      "[' August 2009']\n",
      "[' Sep 2007']\n",
      "[' December 2011']\n",
      "[' Jan 2004']\n",
      "[' November 1995']\n",
      "[' September 2008']\n",
      "['February 1983']\n",
      "[' March 1983']\n",
      "[' Aug 1979']\n",
      "[' Jan 2009']\n",
      "[' Janaury 1993']\n",
      "['March 1974']\n",
      "[' January 1994']\n",
      "[' Dec 1992']\n",
      "[' November 2004']\n",
      "[' January 1977']\n",
      "[' Mar 2002']\n",
      "[' Feb 2000']\n",
      "['May, 2004']\n",
      "[' July 2006']\n",
      "['Feb 1994']\n",
      "[' April 1977']\n",
      "[' Oct 1992']\n",
      "[' February, 1995']\n",
      "[' February 1989']\n",
      "[' Decemeber 1978']\n",
      "[' January 2007']\n",
      "[' Jun 1976']\n",
      "[' May 2011']\n",
      "[' Mar, 1975']\n",
      "['Jan 1978']\n",
      "[' July 1975']\n",
      "[' November 2012']\n",
      "['June, 1999']\n",
      "[' October 1991']\n",
      "[' March 1973']\n",
      "['October 1996']\n",
      "[' Jun 2007']\n",
      "[' October 1995']\n",
      "[' April 1999']\n",
      "[' May, 2001']\n",
      "[' March, 2000']\n",
      "['April 1988']\n",
      "[' December 1993']\n",
      "[' June 1974']\n",
      "['November 1997']\n",
      "[' July 1986']\n",
      "[' February 1973']\n",
      "[' March 1978']\n",
      "[' Dec 2007']\n",
      "[' Apr, 1998']\n",
      "[' March, 2005']\n",
      "['May 1980']\n",
      "['Nov 2007']\n",
      "[' March 1976']\n"
     ]
    }
   ],
   "source": [
    "#add alphanumeric dates to final_DF\n",
    "alpha_present_good_index = get_good_index(alpha_present_df)\n",
    "final_df[alpha_present_good_index] = alpha_present_df[alpha_present_good_index]"
   ]
  },
  {
   "cell_type": "markdown",
   "metadata": {},
   "source": [
    "### Find entries with Month/Year m(m)/yyyy format"
   ]
  },
  {
   "cell_type": "code",
   "execution_count": 16,
   "metadata": {
    "collapsed": true
   },
   "outputs": [],
   "source": [
    "# regex for month/year\n",
    "month_year = r'\\d{,2}[/]+\\d{2,4}'\n",
    "month_year_df = final_df.str.findall(month_year)"
   ]
  },
  {
   "cell_type": "code",
   "execution_count": 17,
   "metadata": {
    "collapsed": false
   },
   "outputs": [
    {
     "name": "stdout",
     "output_type": "stream",
     "text": [
      "['6/1998']\n",
      "['6/2005']\n",
      "['10/1973']\n",
      "['9/2005']\n",
      "['03/1980']\n",
      "['12/2005']\n",
      "['5/1987']\n",
      "['5/2004']\n",
      "['8/1974']\n",
      "['3/1986']\n",
      "['10/1997']\n",
      "['3/1993']\n",
      "['3/1981']\n",
      "['9/2003']\n",
      "['10/1993']\n",
      "['1/1983']\n",
      "['7/1994']\n",
      "['12/2008']\n",
      "['10/1980']\n",
      "['8/2003']\n",
      "['12/1975']\n",
      "['11/2010']\n",
      "['7/1997']\n",
      "['7/2014']\n",
      "['9/2001']\n",
      "['8/1986']\n",
      "['1/1978']\n",
      "['9/1975']\n",
      "['1/2009']\n",
      "['5/1995']\n",
      "['8/1989']\n",
      "['11/2000']\n",
      "['06/1973']\n",
      "['2/1999']\n",
      "['6/2001']\n",
      "['12/1978']\n",
      "['8/2009']\n",
      "['7/1973']\n",
      "['1/2014']\n",
      "['09/1975']\n",
      "['12/2012']\n",
      "['5/1999']\n",
      "['7/1989']\n",
      "['7/2009']\n",
      "['11/1998']\n",
      "['3/1995']\n",
      "['2/2009']\n",
      "['08/1988']\n",
      "['4/2007']\n",
      "['5/2000']\n",
      "['4/2012']\n",
      "['10/2001']\n",
      "['2/1977']\n",
      "['8/2008']\n",
      "['2/1983']\n",
      "['5/1979']\n",
      "['1/1992']\n",
      "['11/2008']\n",
      "['12/2014']\n",
      "['4/1974']\n",
      "['10/1981']\n",
      "['10/1986']\n",
      "['03/1973']\n",
      "['12/1994']\n",
      "['8/1999']\n",
      "['10/2010']\n",
      "['10/1994']\n",
      "['01/2007']\n",
      "['8/2010']\n",
      "['03/1990']\n",
      "['11/2016']\n",
      "['4/2004']\n",
      "['2/1973']\n",
      "['7/1987']\n",
      "['8/2000']\n",
      "['8/1975']\n",
      "['5/1977']\n",
      "['3/2000']\n",
      "['9/1984']\n",
      "['4/1973']\n",
      "['12/1986']\n",
      "['4/1979']\n",
      "['7/2004']\n",
      "['11/1984']\n",
      "['5/2016']\n",
      "['12/2007']\n",
      "['11/1982']\n",
      "['06/1981']\n",
      "['4/2013']\n",
      "['4/1999']\n",
      "['5/2006']\n",
      "['10/1978']\n",
      "['12/1989']\n",
      "['2/1974']\n",
      "['11/1986']\n",
      "['4/1983']\n",
      "['10/2014']\n",
      "['6/1989']\n",
      "['9/1980']\n",
      "['9/1992']\n",
      "['9/2000']\n",
      "['7/1981']\n",
      "['1/2008']\n",
      "['4/2002']\n",
      "['7/1985']\n",
      "['5/2010']\n",
      "['8/2002']\n",
      "['1/1994']\n",
      "['12/2004']\n",
      "['3/2003']\n",
      "['7/1991']\n",
      "['7/1982']\n"
     ]
    }
   ],
   "source": [
    "# indices of newly found entries\n",
    "month_year_good_index = get_good_index(month_year_df)\n",
    "final_df[month_year_good_index] = month_year_df[month_year_good_index]"
   ]
  },
  {
   "cell_type": "code",
   "execution_count": 18,
   "metadata": {
    "collapsed": false
   },
   "outputs": [],
   "source": [
    "#count_empties(final_df)"
   ]
  },
  {
   "cell_type": "markdown",
   "metadata": {},
   "source": [
    "### In Final DF, Fined Entires with Only Year Values"
   ]
  },
  {
   "cell_type": "code",
   "execution_count": 19,
   "metadata": {
    "collapsed": false
   },
   "outputs": [],
   "source": [
    "# regex for year only\n",
    "only_year = r'[a-zA-Z]?(\\d{4})'\n",
    "only_year_df = final_df.str.findall(only_year)"
   ]
  },
  {
   "cell_type": "code",
   "execution_count": 20,
   "metadata": {
    "collapsed": false
   },
   "outputs": [
    {
     "name": "stdout",
     "output_type": "stream",
     "text": [
      "['1984']\n",
      "['2000']\n",
      "['2001']\n",
      "['1982']\n",
      "['1998']\n",
      "['2012']\n",
      "['1991']\n",
      "['1988']\n",
      "['2014']\n",
      "['2016']\n",
      "['1976']\n",
      "['1981']\n",
      "['2011']\n",
      "['1997']\n",
      "['2003']\n",
      "['1983']\n",
      "['1999']\n",
      "['2010']\n",
      "['1975']\n",
      "['1972']\n",
      "['2015']\n",
      "['1989']\n",
      "['1994']\n",
      "['1993']\n",
      "['1996']\n",
      "['2013']\n",
      "['1974']\n",
      "['1990']\n",
      "['1995']\n",
      "['2004']\n",
      "['1987']\n",
      "['1973']\n",
      "['1992']\n",
      "['1977']\n",
      "['1985']\n",
      "['2007']\n",
      "['2009']\n",
      "['1986']\n",
      "['1978']\n",
      "['2002']\n",
      "['1979']\n",
      "['2006']\n",
      "['2008']\n",
      "['2005']\n",
      "['1980']\n"
     ]
    }
   ],
   "source": [
    "# indices of newly found entries\n",
    "only_year_good_index = get_good_index(only_year_df)"
   ]
  },
  {
   "cell_type": "code",
   "execution_count": 21,
   "metadata": {
    "collapsed": true
   },
   "outputs": [],
   "source": [
    "# Insert newly found entries for month/year into Combined DF, Final.\n",
    "final_df[only_year_good_index] = only_year_df[only_year_good_index]"
   ]
  },
  {
   "cell_type": "code",
   "execution_count": 22,
   "metadata": {
    "collapsed": false
   },
   "outputs": [],
   "source": [
    "#count_empties(final_df)"
   ]
  },
  {
   "cell_type": "code",
   "execution_count": 23,
   "metadata": {
    "collapsed": false
   },
   "outputs": [],
   "source": [
    "#final_df[455:]"
   ]
  },
  {
   "cell_type": "markdown",
   "metadata": {},
   "source": [
    "## data cleaning: fix errors and convert to standard format"
   ]
  },
  {
   "cell_type": "code",
   "execution_count": 24,
   "metadata": {
    "collapsed": true
   },
   "outputs": [],
   "source": [
    "import dateutil"
   ]
  },
  {
   "cell_type": "markdown",
   "metadata": {},
   "source": [
    "#### Fix Errors in Alpha_Present_DF"
   ]
  },
  {
   "cell_type": "code",
   "execution_count": 25,
   "metadata": {
    "collapsed": false
   },
   "outputs": [],
   "source": [
    "idx = 228\n",
    "for each in final_df[228:343]:\n",
    "    temp = each[0].strip(\" \")\n",
    "    if \"Janaury\" in temp:\n",
    "        temp = temp.replace(\"Janaury\",\"Jan\")\n",
    "    elif \"Decemeber\" in temp:\n",
    "        temp = temp.replace(\"Decemeber\",\"Dec\")\n",
    "    temp2 = \"1 \"+ temp\n",
    "    final_df.loc[idx] = [temp2]\n",
    "#    print(temp2)\n",
    "    idx+=1"
   ]
  },
  {
   "cell_type": "code",
   "execution_count": 26,
   "metadata": {
    "collapsed": false
   },
   "outputs": [
    {
     "data": {
      "text/plain": [
       "'\\nidx = 228\\nfor each in final_df[228:343]:\\n    print(idx,each)\\n    idx+=1\\n'"
      ]
     },
     "execution_count": 26,
     "metadata": {},
     "output_type": "execute_result"
    }
   ],
   "source": [
    "'''\n",
    "idx = 228\n",
    "for each in final_df[228:343]:\n",
    "    print(idx,each)\n",
    "    idx+=1\n",
    "'''"
   ]
  },
  {
   "cell_type": "code",
   "execution_count": 27,
   "metadata": {
    "collapsed": false
   },
   "outputs": [],
   "source": [
    "# check results\n",
    "#for each in final_df.loc[340:345]:\n",
    "#    print(dateutil.parser.parse(each[0]))"
   ]
  },
  {
   "cell_type": "markdown",
   "metadata": {},
   "source": [
    "#### Fix Errors in Month/Year"
   ]
  },
  {
   "cell_type": "code",
   "execution_count": 28,
   "metadata": {
    "collapsed": false
   },
   "outputs": [],
   "source": [
    "for each in final_df[343:455]:\n",
    "    temp = each[0].strip(\" \")\n",
    "    day_year = temp[:-4] + \"1/\" + temp[-4:]\n",
    "#    print(day_year)"
   ]
  },
  {
   "cell_type": "code",
   "execution_count": 29,
   "metadata": {
    "collapsed": false
   },
   "outputs": [],
   "source": [
    "# 343 - 455\n",
    "idx = 343\n",
    "for each in final_df[343:455]:\n",
    "    temp = each[0].strip(\" \")\n",
    "    day_year = temp[:-4] + \"1/\" + temp[-4:]\n",
    "    final_df.loc[idx] = [day_year]\n",
    "    idx +=1"
   ]
  },
  {
   "cell_type": "code",
   "execution_count": 30,
   "metadata": {
    "collapsed": false
   },
   "outputs": [],
   "source": [
    "# check results\n",
    "#for each in final_df.loc[[343,454]]:\n",
    "#    print(dateutil.parser.parse(each[0]))"
   ]
  },
  {
   "cell_type": "markdown",
   "metadata": {},
   "source": [
    "### Add day month to the year only entries"
   ]
  },
  {
   "cell_type": "code",
   "execution_count": 31,
   "metadata": {
    "collapsed": false
   },
   "outputs": [],
   "source": [
    "idx = 455\n",
    "for each in final_df[455:]:\n",
    "    temp = each[0].strip(\" \")\n",
    "    mo_day_year = \"1/1/\"+temp[-4:]\n",
    "    final_df.loc[idx] = [mo_day_year]\n",
    "#    print(mo_day_year)\n",
    "    idx +=1"
   ]
  },
  {
   "cell_type": "markdown",
   "metadata": {},
   "source": [
    "### Fix one random, stupid error"
   ]
  },
  {
   "cell_type": "code",
   "execution_count": 32,
   "metadata": {
    "collapsed": true
   },
   "outputs": [],
   "source": [
    "final_df[321] = '2 June, 1999'"
   ]
  },
  {
   "cell_type": "code",
   "execution_count": 33,
   "metadata": {
    "collapsed": false
   },
   "outputs": [],
   "source": [
    "date_time_equivalents = []\n",
    "for idx,each in enumerate(final_df):\n",
    "    temp = dateutil.parser.parse(each[0], dayfirst=False)\n",
    "    date_time_equivalents.append(temp)\n"
   ]
  },
  {
   "cell_type": "code",
   "execution_count": 34,
   "metadata": {
    "collapsed": false
   },
   "outputs": [],
   "source": [
    "#for each in date_time_equivalents"
   ]
  },
  {
   "cell_type": "code",
   "execution_count": 35,
   "metadata": {
    "collapsed": false
   },
   "outputs": [],
   "source": [
    "clean_df = pd.Series(date_time_equivalents)"
   ]
  },
  {
   "cell_type": "code",
   "execution_count": 36,
   "metadata": {
    "collapsed": false
   },
   "outputs": [
    {
     "data": {
      "text/plain": [
       "'\\nfor i in range(500):\\n    print(df[i].strip(\"\\n\"))\\n    print(date_time_equivalents[i])\\n    a = (dateutil.parser.parse(final_df[i][0], dayfirst=False))\\n    print(a.strftime(\\'%b %d %Y\\'))\\n    print()\\n'"
      ]
     },
     "execution_count": 36,
     "metadata": {},
     "output_type": "execute_result"
    }
   ],
   "source": [
    "'''\n",
    "for i in range(500):\n",
    "    print(df[i].strip(\"\\n\"))\n",
    "    print(date_time_equivalents[i])\n",
    "    a = (dateutil.parser.parse(final_df[i][0], dayfirst=False))\n",
    "    print(a.strftime('%b %d %Y'))\n",
    "    print()\n",
    "'''"
   ]
  },
  {
   "cell_type": "code",
   "execution_count": 37,
   "metadata": {
    "collapsed": false
   },
   "outputs": [
    {
     "data": {
      "text/plain": [
       "'\\nfor idx,each in enumerate(df):\\n    if \"2June, 1999\" in each:\\n        print(idx)\\n'"
      ]
     },
     "execution_count": 37,
     "metadata": {},
     "output_type": "execute_result"
    }
   ],
   "source": [
    "'''\n",
    "for idx,each in enumerate(df):\n",
    "    if \"2June, 1999\" in each:\n",
    "        print(idx)\n",
    "'''"
   ]
  },
  {
   "cell_type": "code",
   "execution_count": 38,
   "metadata": {
    "collapsed": false
   },
   "outputs": [],
   "source": [
    "#df[321]"
   ]
  },
  {
   "cell_type": "code",
   "execution_count": 39,
   "metadata": {
    "collapsed": false
   },
   "outputs": [],
   "source": [
    "#final_df[321] = '2 June, 1999'"
   ]
  },
  {
   "cell_type": "code",
   "execution_count": 40,
   "metadata": {
    "collapsed": false
   },
   "outputs": [],
   "source": [
    "#final_df[321]"
   ]
  },
  {
   "cell_type": "code",
   "execution_count": 43,
   "metadata": {
    "collapsed": false
   },
   "outputs": [
    {
     "data": {
      "text/html": [
       "<div>\n",
       "<table border=\"1\" class=\"dataframe\">\n",
       "  <thead>\n",
       "    <tr style=\"text-align: right;\">\n",
       "      <th></th>\n",
       "      <th>date</th>\n",
       "    </tr>\n",
       "  </thead>\n",
       "  <tbody>\n",
       "    <tr>\n",
       "      <th>9</th>\n",
       "      <td>1971-04-10</td>\n",
       "    </tr>\n",
       "    <tr>\n",
       "      <th>84</th>\n",
       "      <td>1971-05-18</td>\n",
       "    </tr>\n",
       "    <tr>\n",
       "      <th>2</th>\n",
       "      <td>1971-07-08</td>\n",
       "    </tr>\n",
       "    <tr>\n",
       "      <th>53</th>\n",
       "      <td>1971-07-11</td>\n",
       "    </tr>\n",
       "    <tr>\n",
       "      <th>28</th>\n",
       "      <td>1971-09-12</td>\n",
       "    </tr>\n",
       "    <tr>\n",
       "      <th>474</th>\n",
       "      <td>1972-01-01</td>\n",
       "    </tr>\n",
       "    <tr>\n",
       "      <th>153</th>\n",
       "      <td>1972-01-13</td>\n",
       "    </tr>\n",
       "    <tr>\n",
       "      <th>13</th>\n",
       "      <td>1972-01-26</td>\n",
       "    </tr>\n",
       "    <tr>\n",
       "      <th>129</th>\n",
       "      <td>1972-05-06</td>\n",
       "    </tr>\n",
       "    <tr>\n",
       "      <th>98</th>\n",
       "      <td>1972-05-13</td>\n",
       "    </tr>\n",
       "    <tr>\n",
       "      <th>111</th>\n",
       "      <td>1972-06-10</td>\n",
       "    </tr>\n",
       "    <tr>\n",
       "      <th>225</th>\n",
       "      <td>1972-06-15</td>\n",
       "    </tr>\n",
       "    <tr>\n",
       "      <th>31</th>\n",
       "      <td>1972-07-20</td>\n",
       "    </tr>\n",
       "    <tr>\n",
       "      <th>171</th>\n",
       "      <td>1972-10-04</td>\n",
       "    </tr>\n",
       "    <tr>\n",
       "      <th>191</th>\n",
       "      <td>1972-11-30</td>\n",
       "    </tr>\n",
       "    <tr>\n",
       "      <th>486</th>\n",
       "      <td>1973-01-01</td>\n",
       "    </tr>\n",
       "    <tr>\n",
       "      <th>335</th>\n",
       "      <td>1973-02-01</td>\n",
       "    </tr>\n",
       "    <tr>\n",
       "      <th>415</th>\n",
       "      <td>1973-02-01</td>\n",
       "    </tr>\n",
       "    <tr>\n",
       "      <th>36</th>\n",
       "      <td>1973-02-14</td>\n",
       "    </tr>\n",
       "    <tr>\n",
       "      <th>405</th>\n",
       "      <td>1973-03-01</td>\n",
       "    </tr>\n",
       "    <tr>\n",
       "      <th>323</th>\n",
       "      <td>1973-03-01</td>\n",
       "    </tr>\n",
       "    <tr>\n",
       "      <th>422</th>\n",
       "      <td>1973-04-01</td>\n",
       "    </tr>\n",
       "    <tr>\n",
       "      <th>375</th>\n",
       "      <td>1973-06-01</td>\n",
       "    </tr>\n",
       "    <tr>\n",
       "      <th>380</th>\n",
       "      <td>1973-07-01</td>\n",
       "    </tr>\n",
       "    <tr>\n",
       "      <th>345</th>\n",
       "      <td>1973-10-01</td>\n",
       "    </tr>\n",
       "    <tr>\n",
       "      <th>57</th>\n",
       "      <td>1973-12-01</td>\n",
       "    </tr>\n",
       "    <tr>\n",
       "      <th>481</th>\n",
       "      <td>1974-01-01</td>\n",
       "    </tr>\n",
       "    <tr>\n",
       "      <th>436</th>\n",
       "      <td>1974-02-01</td>\n",
       "    </tr>\n",
       "    <tr>\n",
       "      <th>104</th>\n",
       "      <td>1974-02-24</td>\n",
       "    </tr>\n",
       "    <tr>\n",
       "      <th>299</th>\n",
       "      <td>1974-03-01</td>\n",
       "    </tr>\n",
       "    <tr>\n",
       "      <th>...</th>\n",
       "      <td>...</td>\n",
       "    </tr>\n",
       "    <tr>\n",
       "      <th>243</th>\n",
       "      <td>2012-09-01</td>\n",
       "    </tr>\n",
       "    <tr>\n",
       "      <th>208</th>\n",
       "      <td>2012-09-01</td>\n",
       "    </tr>\n",
       "    <tr>\n",
       "      <th>139</th>\n",
       "      <td>2012-10-21</td>\n",
       "    </tr>\n",
       "    <tr>\n",
       "      <th>320</th>\n",
       "      <td>2012-11-01</td>\n",
       "    </tr>\n",
       "    <tr>\n",
       "      <th>383</th>\n",
       "      <td>2012-12-01</td>\n",
       "    </tr>\n",
       "    <tr>\n",
       "      <th>286</th>\n",
       "      <td>2013-01-01</td>\n",
       "    </tr>\n",
       "    <tr>\n",
       "      <th>244</th>\n",
       "      <td>2013-01-01</td>\n",
       "    </tr>\n",
       "    <tr>\n",
       "      <th>480</th>\n",
       "      <td>2013-01-01</td>\n",
       "    </tr>\n",
       "    <tr>\n",
       "      <th>431</th>\n",
       "      <td>2013-04-01</td>\n",
       "    </tr>\n",
       "    <tr>\n",
       "      <th>279</th>\n",
       "      <td>2013-09-01</td>\n",
       "    </tr>\n",
       "    <tr>\n",
       "      <th>198</th>\n",
       "      <td>2013-10-11</td>\n",
       "    </tr>\n",
       "    <tr>\n",
       "      <th>381</th>\n",
       "      <td>2014-01-01</td>\n",
       "    </tr>\n",
       "    <tr>\n",
       "      <th>463</th>\n",
       "      <td>2014-01-01</td>\n",
       "    </tr>\n",
       "    <tr>\n",
       "      <th>366</th>\n",
       "      <td>2014-07-01</td>\n",
       "    </tr>\n",
       "    <tr>\n",
       "      <th>439</th>\n",
       "      <td>2014-10-01</td>\n",
       "    </tr>\n",
       "    <tr>\n",
       "      <th>255</th>\n",
       "      <td>2014-10-01</td>\n",
       "    </tr>\n",
       "    <tr>\n",
       "      <th>401</th>\n",
       "      <td>2014-12-01</td>\n",
       "    </tr>\n",
       "    <tr>\n",
       "      <th>475</th>\n",
       "      <td>2015-01-01</td>\n",
       "    </tr>\n",
       "    <tr>\n",
       "      <th>257</th>\n",
       "      <td>2015-09-01</td>\n",
       "    </tr>\n",
       "    <tr>\n",
       "      <th>152</th>\n",
       "      <td>2015-09-28</td>\n",
       "    </tr>\n",
       "    <tr>\n",
       "      <th>235</th>\n",
       "      <td>2015-10-01</td>\n",
       "    </tr>\n",
       "    <tr>\n",
       "      <th>464</th>\n",
       "      <td>2016-01-01</td>\n",
       "    </tr>\n",
       "    <tr>\n",
       "      <th>253</th>\n",
       "      <td>2016-02-01</td>\n",
       "    </tr>\n",
       "    <tr>\n",
       "      <th>231</th>\n",
       "      <td>2016-05-01</td>\n",
       "    </tr>\n",
       "    <tr>\n",
       "      <th>427</th>\n",
       "      <td>2016-05-01</td>\n",
       "    </tr>\n",
       "    <tr>\n",
       "      <th>141</th>\n",
       "      <td>2016-05-30</td>\n",
       "    </tr>\n",
       "    <tr>\n",
       "      <th>186</th>\n",
       "      <td>2016-10-13</td>\n",
       "    </tr>\n",
       "    <tr>\n",
       "      <th>161</th>\n",
       "      <td>2016-10-19</td>\n",
       "    </tr>\n",
       "    <tr>\n",
       "      <th>413</th>\n",
       "      <td>2016-11-01</td>\n",
       "    </tr>\n",
       "    <tr>\n",
       "      <th>321</th>\n",
       "      <td>2017-08-02</td>\n",
       "    </tr>\n",
       "  </tbody>\n",
       "</table>\n",
       "<p>500 rows × 1 columns</p>\n",
       "</div>"
      ],
      "text/plain": [
       "          date\n",
       "9   1971-04-10\n",
       "84  1971-05-18\n",
       "2   1971-07-08\n",
       "53  1971-07-11\n",
       "28  1971-09-12\n",
       "474 1972-01-01\n",
       "153 1972-01-13\n",
       "13  1972-01-26\n",
       "129 1972-05-06\n",
       "98  1972-05-13\n",
       "111 1972-06-10\n",
       "225 1972-06-15\n",
       "31  1972-07-20\n",
       "171 1972-10-04\n",
       "191 1972-11-30\n",
       "486 1973-01-01\n",
       "335 1973-02-01\n",
       "415 1973-02-01\n",
       "36  1973-02-14\n",
       "405 1973-03-01\n",
       "323 1973-03-01\n",
       "422 1973-04-01\n",
       "375 1973-06-01\n",
       "380 1973-07-01\n",
       "345 1973-10-01\n",
       "57  1973-12-01\n",
       "481 1974-01-01\n",
       "436 1974-02-01\n",
       "104 1974-02-24\n",
       "299 1974-03-01\n",
       "..         ...\n",
       "243 2012-09-01\n",
       "208 2012-09-01\n",
       "139 2012-10-21\n",
       "320 2012-11-01\n",
       "383 2012-12-01\n",
       "286 2013-01-01\n",
       "244 2013-01-01\n",
       "480 2013-01-01\n",
       "431 2013-04-01\n",
       "279 2013-09-01\n",
       "198 2013-10-11\n",
       "381 2014-01-01\n",
       "463 2014-01-01\n",
       "366 2014-07-01\n",
       "439 2014-10-01\n",
       "255 2014-10-01\n",
       "401 2014-12-01\n",
       "475 2015-01-01\n",
       "257 2015-09-01\n",
       "152 2015-09-28\n",
       "235 2015-10-01\n",
       "464 2016-01-01\n",
       "253 2016-02-01\n",
       "231 2016-05-01\n",
       "427 2016-05-01\n",
       "141 2016-05-30\n",
       "186 2016-10-13\n",
       "161 2016-10-19\n",
       "413 2016-11-01\n",
       "321 2017-08-02\n",
       "\n",
       "[500 rows x 1 columns]"
      ]
     },
     "execution_count": 43,
     "metadata": {},
     "output_type": "execute_result"
    }
   ],
   "source": [
    "a1 = pd.DataFrame({'date':clean_df})\n",
    "a2 = a1.sort_values('date')\n",
    "a2"
   ]
  },
  {
   "cell_type": "code",
   "execution_count": 51,
   "metadata": {
    "collapsed": false
   },
   "outputs": [
    {
     "data": {
      "text/html": [
       "<div>\n",
       "<table border=\"1\" class=\"dataframe\">\n",
       "  <thead>\n",
       "    <tr style=\"text-align: right;\">\n",
       "      <th></th>\n",
       "      <th>index</th>\n",
       "      <th>date</th>\n",
       "    </tr>\n",
       "  </thead>\n",
       "  <tbody>\n",
       "    <tr>\n",
       "      <th>0</th>\n",
       "      <td>9</td>\n",
       "      <td>1971-04-10</td>\n",
       "    </tr>\n",
       "    <tr>\n",
       "      <th>1</th>\n",
       "      <td>84</td>\n",
       "      <td>1971-05-18</td>\n",
       "    </tr>\n",
       "    <tr>\n",
       "      <th>2</th>\n",
       "      <td>2</td>\n",
       "      <td>1971-07-08</td>\n",
       "    </tr>\n",
       "    <tr>\n",
       "      <th>3</th>\n",
       "      <td>53</td>\n",
       "      <td>1971-07-11</td>\n",
       "    </tr>\n",
       "    <tr>\n",
       "      <th>4</th>\n",
       "      <td>28</td>\n",
       "      <td>1971-09-12</td>\n",
       "    </tr>\n",
       "    <tr>\n",
       "      <th>5</th>\n",
       "      <td>474</td>\n",
       "      <td>1972-01-01</td>\n",
       "    </tr>\n",
       "    <tr>\n",
       "      <th>6</th>\n",
       "      <td>153</td>\n",
       "      <td>1972-01-13</td>\n",
       "    </tr>\n",
       "    <tr>\n",
       "      <th>7</th>\n",
       "      <td>13</td>\n",
       "      <td>1972-01-26</td>\n",
       "    </tr>\n",
       "    <tr>\n",
       "      <th>8</th>\n",
       "      <td>129</td>\n",
       "      <td>1972-05-06</td>\n",
       "    </tr>\n",
       "    <tr>\n",
       "      <th>9</th>\n",
       "      <td>98</td>\n",
       "      <td>1972-05-13</td>\n",
       "    </tr>\n",
       "    <tr>\n",
       "      <th>10</th>\n",
       "      <td>111</td>\n",
       "      <td>1972-06-10</td>\n",
       "    </tr>\n",
       "    <tr>\n",
       "      <th>11</th>\n",
       "      <td>225</td>\n",
       "      <td>1972-06-15</td>\n",
       "    </tr>\n",
       "    <tr>\n",
       "      <th>12</th>\n",
       "      <td>31</td>\n",
       "      <td>1972-07-20</td>\n",
       "    </tr>\n",
       "    <tr>\n",
       "      <th>13</th>\n",
       "      <td>171</td>\n",
       "      <td>1972-10-04</td>\n",
       "    </tr>\n",
       "    <tr>\n",
       "      <th>14</th>\n",
       "      <td>191</td>\n",
       "      <td>1972-11-30</td>\n",
       "    </tr>\n",
       "    <tr>\n",
       "      <th>15</th>\n",
       "      <td>486</td>\n",
       "      <td>1973-01-01</td>\n",
       "    </tr>\n",
       "    <tr>\n",
       "      <th>16</th>\n",
       "      <td>335</td>\n",
       "      <td>1973-02-01</td>\n",
       "    </tr>\n",
       "    <tr>\n",
       "      <th>17</th>\n",
       "      <td>415</td>\n",
       "      <td>1973-02-01</td>\n",
       "    </tr>\n",
       "    <tr>\n",
       "      <th>18</th>\n",
       "      <td>36</td>\n",
       "      <td>1973-02-14</td>\n",
       "    </tr>\n",
       "    <tr>\n",
       "      <th>19</th>\n",
       "      <td>405</td>\n",
       "      <td>1973-03-01</td>\n",
       "    </tr>\n",
       "    <tr>\n",
       "      <th>20</th>\n",
       "      <td>323</td>\n",
       "      <td>1973-03-01</td>\n",
       "    </tr>\n",
       "    <tr>\n",
       "      <th>21</th>\n",
       "      <td>422</td>\n",
       "      <td>1973-04-01</td>\n",
       "    </tr>\n",
       "    <tr>\n",
       "      <th>22</th>\n",
       "      <td>375</td>\n",
       "      <td>1973-06-01</td>\n",
       "    </tr>\n",
       "    <tr>\n",
       "      <th>23</th>\n",
       "      <td>380</td>\n",
       "      <td>1973-07-01</td>\n",
       "    </tr>\n",
       "    <tr>\n",
       "      <th>24</th>\n",
       "      <td>345</td>\n",
       "      <td>1973-10-01</td>\n",
       "    </tr>\n",
       "    <tr>\n",
       "      <th>25</th>\n",
       "      <td>57</td>\n",
       "      <td>1973-12-01</td>\n",
       "    </tr>\n",
       "    <tr>\n",
       "      <th>26</th>\n",
       "      <td>481</td>\n",
       "      <td>1974-01-01</td>\n",
       "    </tr>\n",
       "    <tr>\n",
       "      <th>27</th>\n",
       "      <td>436</td>\n",
       "      <td>1974-02-01</td>\n",
       "    </tr>\n",
       "    <tr>\n",
       "      <th>28</th>\n",
       "      <td>104</td>\n",
       "      <td>1974-02-24</td>\n",
       "    </tr>\n",
       "    <tr>\n",
       "      <th>29</th>\n",
       "      <td>299</td>\n",
       "      <td>1974-03-01</td>\n",
       "    </tr>\n",
       "    <tr>\n",
       "      <th>...</th>\n",
       "      <td>...</td>\n",
       "      <td>...</td>\n",
       "    </tr>\n",
       "    <tr>\n",
       "      <th>470</th>\n",
       "      <td>243</td>\n",
       "      <td>2012-09-01</td>\n",
       "    </tr>\n",
       "    <tr>\n",
       "      <th>471</th>\n",
       "      <td>208</td>\n",
       "      <td>2012-09-01</td>\n",
       "    </tr>\n",
       "    <tr>\n",
       "      <th>472</th>\n",
       "      <td>139</td>\n",
       "      <td>2012-10-21</td>\n",
       "    </tr>\n",
       "    <tr>\n",
       "      <th>473</th>\n",
       "      <td>320</td>\n",
       "      <td>2012-11-01</td>\n",
       "    </tr>\n",
       "    <tr>\n",
       "      <th>474</th>\n",
       "      <td>383</td>\n",
       "      <td>2012-12-01</td>\n",
       "    </tr>\n",
       "    <tr>\n",
       "      <th>475</th>\n",
       "      <td>286</td>\n",
       "      <td>2013-01-01</td>\n",
       "    </tr>\n",
       "    <tr>\n",
       "      <th>476</th>\n",
       "      <td>244</td>\n",
       "      <td>2013-01-01</td>\n",
       "    </tr>\n",
       "    <tr>\n",
       "      <th>477</th>\n",
       "      <td>480</td>\n",
       "      <td>2013-01-01</td>\n",
       "    </tr>\n",
       "    <tr>\n",
       "      <th>478</th>\n",
       "      <td>431</td>\n",
       "      <td>2013-04-01</td>\n",
       "    </tr>\n",
       "    <tr>\n",
       "      <th>479</th>\n",
       "      <td>279</td>\n",
       "      <td>2013-09-01</td>\n",
       "    </tr>\n",
       "    <tr>\n",
       "      <th>480</th>\n",
       "      <td>198</td>\n",
       "      <td>2013-10-11</td>\n",
       "    </tr>\n",
       "    <tr>\n",
       "      <th>481</th>\n",
       "      <td>381</td>\n",
       "      <td>2014-01-01</td>\n",
       "    </tr>\n",
       "    <tr>\n",
       "      <th>482</th>\n",
       "      <td>463</td>\n",
       "      <td>2014-01-01</td>\n",
       "    </tr>\n",
       "    <tr>\n",
       "      <th>483</th>\n",
       "      <td>366</td>\n",
       "      <td>2014-07-01</td>\n",
       "    </tr>\n",
       "    <tr>\n",
       "      <th>484</th>\n",
       "      <td>439</td>\n",
       "      <td>2014-10-01</td>\n",
       "    </tr>\n",
       "    <tr>\n",
       "      <th>485</th>\n",
       "      <td>255</td>\n",
       "      <td>2014-10-01</td>\n",
       "    </tr>\n",
       "    <tr>\n",
       "      <th>486</th>\n",
       "      <td>401</td>\n",
       "      <td>2014-12-01</td>\n",
       "    </tr>\n",
       "    <tr>\n",
       "      <th>487</th>\n",
       "      <td>475</td>\n",
       "      <td>2015-01-01</td>\n",
       "    </tr>\n",
       "    <tr>\n",
       "      <th>488</th>\n",
       "      <td>257</td>\n",
       "      <td>2015-09-01</td>\n",
       "    </tr>\n",
       "    <tr>\n",
       "      <th>489</th>\n",
       "      <td>152</td>\n",
       "      <td>2015-09-28</td>\n",
       "    </tr>\n",
       "    <tr>\n",
       "      <th>490</th>\n",
       "      <td>235</td>\n",
       "      <td>2015-10-01</td>\n",
       "    </tr>\n",
       "    <tr>\n",
       "      <th>491</th>\n",
       "      <td>464</td>\n",
       "      <td>2016-01-01</td>\n",
       "    </tr>\n",
       "    <tr>\n",
       "      <th>492</th>\n",
       "      <td>253</td>\n",
       "      <td>2016-02-01</td>\n",
       "    </tr>\n",
       "    <tr>\n",
       "      <th>493</th>\n",
       "      <td>231</td>\n",
       "      <td>2016-05-01</td>\n",
       "    </tr>\n",
       "    <tr>\n",
       "      <th>494</th>\n",
       "      <td>427</td>\n",
       "      <td>2016-05-01</td>\n",
       "    </tr>\n",
       "    <tr>\n",
       "      <th>495</th>\n",
       "      <td>141</td>\n",
       "      <td>2016-05-30</td>\n",
       "    </tr>\n",
       "    <tr>\n",
       "      <th>496</th>\n",
       "      <td>186</td>\n",
       "      <td>2016-10-13</td>\n",
       "    </tr>\n",
       "    <tr>\n",
       "      <th>497</th>\n",
       "      <td>161</td>\n",
       "      <td>2016-10-19</td>\n",
       "    </tr>\n",
       "    <tr>\n",
       "      <th>498</th>\n",
       "      <td>413</td>\n",
       "      <td>2016-11-01</td>\n",
       "    </tr>\n",
       "    <tr>\n",
       "      <th>499</th>\n",
       "      <td>321</td>\n",
       "      <td>2017-08-02</td>\n",
       "    </tr>\n",
       "  </tbody>\n",
       "</table>\n",
       "<p>500 rows × 2 columns</p>\n",
       "</div>"
      ],
      "text/plain": [
       "     index       date\n",
       "0        9 1971-04-10\n",
       "1       84 1971-05-18\n",
       "2        2 1971-07-08\n",
       "3       53 1971-07-11\n",
       "4       28 1971-09-12\n",
       "5      474 1972-01-01\n",
       "6      153 1972-01-13\n",
       "7       13 1972-01-26\n",
       "8      129 1972-05-06\n",
       "9       98 1972-05-13\n",
       "10     111 1972-06-10\n",
       "11     225 1972-06-15\n",
       "12      31 1972-07-20\n",
       "13     171 1972-10-04\n",
       "14     191 1972-11-30\n",
       "15     486 1973-01-01\n",
       "16     335 1973-02-01\n",
       "17     415 1973-02-01\n",
       "18      36 1973-02-14\n",
       "19     405 1973-03-01\n",
       "20     323 1973-03-01\n",
       "21     422 1973-04-01\n",
       "22     375 1973-06-01\n",
       "23     380 1973-07-01\n",
       "24     345 1973-10-01\n",
       "25      57 1973-12-01\n",
       "26     481 1974-01-01\n",
       "27     436 1974-02-01\n",
       "28     104 1974-02-24\n",
       "29     299 1974-03-01\n",
       "..     ...        ...\n",
       "470    243 2012-09-01\n",
       "471    208 2012-09-01\n",
       "472    139 2012-10-21\n",
       "473    320 2012-11-01\n",
       "474    383 2012-12-01\n",
       "475    286 2013-01-01\n",
       "476    244 2013-01-01\n",
       "477    480 2013-01-01\n",
       "478    431 2013-04-01\n",
       "479    279 2013-09-01\n",
       "480    198 2013-10-11\n",
       "481    381 2014-01-01\n",
       "482    463 2014-01-01\n",
       "483    366 2014-07-01\n",
       "484    439 2014-10-01\n",
       "485    255 2014-10-01\n",
       "486    401 2014-12-01\n",
       "487    475 2015-01-01\n",
       "488    257 2015-09-01\n",
       "489    152 2015-09-28\n",
       "490    235 2015-10-01\n",
       "491    464 2016-01-01\n",
       "492    253 2016-02-01\n",
       "493    231 2016-05-01\n",
       "494    427 2016-05-01\n",
       "495    141 2016-05-30\n",
       "496    186 2016-10-13\n",
       "497    161 2016-10-19\n",
       "498    413 2016-11-01\n",
       "499    321 2017-08-02\n",
       "\n",
       "[500 rows x 2 columns]"
      ]
     },
     "execution_count": 51,
     "metadata": {},
     "output_type": "execute_result"
    }
   ],
   "source": [
    "a3 = a2.reset_index()\n",
    "a3"
   ]
  },
  {
   "cell_type": "code",
   "execution_count": 59,
   "metadata": {
    "collapsed": false
   },
   "outputs": [],
   "source": [
    "#a3.date.value_counts()"
   ]
  },
  {
   "cell_type": "code",
   "execution_count": 44,
   "metadata": {
    "collapsed": false
   },
   "outputs": [
    {
     "data": {
      "text/plain": [
       "0        9\n",
       "1       84\n",
       "2        2\n",
       "3       53\n",
       "4       28\n",
       "5      474\n",
       "6      153\n",
       "7       13\n",
       "8      129\n",
       "9       98\n",
       "10     111\n",
       "11     225\n",
       "12      31\n",
       "13     171\n",
       "14     191\n",
       "15     486\n",
       "16     335\n",
       "17     415\n",
       "18      36\n",
       "19     405\n",
       "20     323\n",
       "21     422\n",
       "22     375\n",
       "23     380\n",
       "24     345\n",
       "25      57\n",
       "26     481\n",
       "27     436\n",
       "28     104\n",
       "29     299\n",
       "      ... \n",
       "470    243\n",
       "471    208\n",
       "472    139\n",
       "473    320\n",
       "474    383\n",
       "475    286\n",
       "476    244\n",
       "477    480\n",
       "478    431\n",
       "479    279\n",
       "480    198\n",
       "481    381\n",
       "482    463\n",
       "483    366\n",
       "484    439\n",
       "485    255\n",
       "486    401\n",
       "487    475\n",
       "488    257\n",
       "489    152\n",
       "490    235\n",
       "491    464\n",
       "492    253\n",
       "493    231\n",
       "494    427\n",
       "495    141\n",
       "496    186\n",
       "497    161\n",
       "498    413\n",
       "499    321\n",
       "Name: index, dtype: int64"
      ]
     },
     "execution_count": 44,
     "metadata": {},
     "output_type": "execute_result"
    }
   ],
   "source": [
    "ans = a2.reset_index()['index']\n",
    "ans"
   ]
  },
  {
   "cell_type": "code",
   "execution_count": 50,
   "metadata": {
    "collapsed": false
   },
   "outputs": [
    {
     "data": {
      "text/plain": [
       "405"
      ]
     },
     "execution_count": 50,
     "metadata": {},
     "output_type": "execute_result"
    }
   ],
   "source": [
    "#theory = a2.reset_index()['index']"
   ]
  },
  {
   "cell_type": "code",
   "execution_count": 56,
   "metadata": {
    "collapsed": false
   },
   "outputs": [
    {
     "data": {
      "text/html": [
       "<div>\n",
       "<table border=\"1\" class=\"dataframe\">\n",
       "  <thead>\n",
       "    <tr style=\"text-align: right;\">\n",
       "      <th></th>\n",
       "      <th>index</th>\n",
       "      <th>date</th>\n",
       "    </tr>\n",
       "  </thead>\n",
       "  <tbody>\n",
       "    <tr>\n",
       "      <th>475</th>\n",
       "      <td>286</td>\n",
       "      <td>2013-01-01</td>\n",
       "    </tr>\n",
       "    <tr>\n",
       "      <th>476</th>\n",
       "      <td>244</td>\n",
       "      <td>2013-01-01</td>\n",
       "    </tr>\n",
       "    <tr>\n",
       "      <th>477</th>\n",
       "      <td>480</td>\n",
       "      <td>2013-01-01</td>\n",
       "    </tr>\n",
       "  </tbody>\n",
       "</table>\n",
       "</div>"
      ],
      "text/plain": [
       "     index       date\n",
       "475    286 2013-01-01\n",
       "476    244 2013-01-01\n",
       "477    480 2013-01-01"
      ]
     },
     "execution_count": 56,
     "metadata": {},
     "output_type": "execute_result"
    }
   ],
   "source": [
    "#a3[a3['date'] == '2013-01-01']"
   ]
  },
  {
   "cell_type": "code",
   "execution_count": 60,
   "metadata": {
    "collapsed": false
   },
   "outputs": [
    {
     "data": {
      "text/plain": [
       "0        9\n",
       "1       84\n",
       "2        2\n",
       "3       53\n",
       "4       28\n",
       "5      474\n",
       "6      153\n",
       "7       13\n",
       "8      129\n",
       "9       98\n",
       "10     111\n",
       "11     225\n",
       "12      31\n",
       "13     171\n",
       "14     191\n",
       "15     486\n",
       "16     335\n",
       "17     415\n",
       "18      36\n",
       "19     405\n",
       "20     323\n",
       "21     422\n",
       "22     375\n",
       "23     380\n",
       "24     345\n",
       "25      57\n",
       "26     481\n",
       "27     436\n",
       "28     104\n",
       "29     299\n",
       "      ... \n",
       "470    243\n",
       "471    208\n",
       "472    139\n",
       "473    320\n",
       "474    383\n",
       "475    286\n",
       "476    244\n",
       "477    480\n",
       "478    431\n",
       "479    279\n",
       "480    198\n",
       "481    381\n",
       "482    463\n",
       "483    366\n",
       "484    439\n",
       "485    255\n",
       "486    401\n",
       "487    475\n",
       "488    257\n",
       "489    152\n",
       "490    235\n",
       "491    464\n",
       "492    253\n",
       "493    231\n",
       "494    427\n",
       "495    141\n",
       "496    186\n",
       "497    161\n",
       "498    413\n",
       "499    321\n",
       "Name: index, dtype: int64"
      ]
     },
     "execution_count": 60,
     "metadata": {},
     "output_type": "execute_result"
    }
   ],
   "source": [
    "def date_sorter():\n",
    "    return ans\n",
    "date_sorter()"
   ]
  },
  {
   "cell_type": "code",
   "execution_count": null,
   "metadata": {
    "collapsed": true
   },
   "outputs": [],
   "source": []
  }
 ],
 "metadata": {
  "coursera": {
   "course_slug": "python-text-mining",
   "graded_item_id": "LvcWI",
   "launcher_item_id": "krne9",
   "part_id": "Mkp1I"
  },
  "kernelspec": {
   "display_name": "Python 3",
   "language": "python",
   "name": "python3"
  },
  "language_info": {
   "codemirror_mode": {
    "name": "ipython",
    "version": 3
   },
   "file_extension": ".py",
   "mimetype": "text/x-python",
   "name": "python",
   "nbconvert_exporter": "python",
   "pygments_lexer": "ipython3",
   "version": "3.6.0"
  }
 },
 "nbformat": 4,
 "nbformat_minor": 2
}
