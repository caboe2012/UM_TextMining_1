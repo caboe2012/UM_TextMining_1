{
 "cells": [
  {
   "cell_type": "markdown",
   "metadata": {},
   "source": [
    "---\n",
    "\n",
    "_You are currently looking at **version 1.0** of this notebook. To download notebooks and datafiles, as well as get help on Jupyter notebooks in the Coursera platform, visit the [Jupyter Notebook FAQ](https://www.coursera.org/learn/python-text-mining/resources/d9pwm) course resource._\n",
    "\n",
    "---"
   ]
  },
  {
   "cell_type": "markdown",
   "metadata": {},
   "source": [
    "# Assignment 1\n",
    "\n",
    "In this assignment, you'll be working with messy medical data and using regex to extract relevant infromation from the data. \n",
    "\n",
    "Each line of the `dates.txt` file corresponds to a medical note. Each note has a date that needs to be extracted, but each date is encoded in one of many formats.\n",
    "\n",
    "The goal of this assignment is to correctly identify all of the different date variants encoded in this dataset and to properly normalize and sort the dates. \n",
    "\n",
    "Here is a list of some of the variants you might encounter in this dataset:\n",
    "* 04/20/2009; 04/20/09; 4/20/09; 4/3/09\n",
    "* Mar-20-2009; Mar 20, 2009; March 20, 2009;  Mar. 20, 2009; Mar 20 2009;\n",
    "* 20 Mar 2009; 20 March 2009; 20 Mar. 2009; 20 March, 2009\n",
    "* Mar 20th, 2009; Mar 21st, 2009; Mar 22nd, 2009\n",
    "* Feb 2009; Sep 2009; Oct 2010\n",
    "* 6/2008; 12/2009\n",
    "* 2009; 2010\n",
    "\n",
    "Once you have extracted these date patterns from the text, the next step is to sort them in ascending chronological order accoring to the following rules:\n",
    "* Assume all dates in xx/xx/xx format are mm/dd/yy\n",
    "* Assume all dates where year is encoded in only two digits are years from the 1900's (e.g. 1/5/89 is January 5th, 1989)\n",
    "* If the day is missing (e.g. 9/2009), assume it is the first day of the month (e.g. September 1, 2009).\n",
    "* If the month is missing (e.g. 2010), assume it is the first of January of that year (e.g. January 1, 2010).\n",
    "\n",
    "With these rules in mind, find the correct date in each note and return a pandas Series in chronological order of the original Series' indices.\n",
    "\n",
    "For example if the original series was this:\n",
    "\n",
    "    0    1999\n",
    "    1    2010\n",
    "    2    1978\n",
    "    3    2015\n",
    "    4    1985\n",
    "\n",
    "Your function should return this:\n",
    "\n",
    "    0    2\n",
    "    1    4\n",
    "    2    0\n",
    "    3    1\n",
    "    4    3\n",
    "\n",
    "Your score will be calculated using [Kendall's tau](https://en.wikipedia.org/wiki/Kendall_rank_correlation_coefficient), a correlation measure for ordinal data.\n",
    "\n",
    "*This function should return a Series of length 500 and dtype int.*"
   ]
  },
  {
   "cell_type": "code",
   "execution_count": 6,
   "metadata": {
    "collapsed": false
   },
   "outputs": [
    {
     "data": {
      "text/plain": [
       "0         03/25/93 Total time of visit (in minutes):\\n\n",
       "1                       6/18/85 Primary Care Doctor:\\n\n",
       "2    sshe plans to move as of 7/8/71 In-Home Servic...\n",
       "3                7 on 9/27/75 Audit C Score Current:\\n\n",
       "4    2/6/96 sleep studyPain Treatment Pain Level (N...\n",
       "5                    .Per 7/06/79 Movement D/O note:\\n\n",
       "6    4, 5/18/78 Patient's thoughts about current su...\n",
       "7    10/24/89 CPT Code: 90801 - Psychiatric Diagnos...\n",
       "8                         3/7/86 SOS-10 Total Score:\\n\n",
       "9             (4/10/71)Score-1Audit C Score Current:\\n\n",
       "dtype: object"
      ]
     },
     "execution_count": 6,
     "metadata": {},
     "output_type": "execute_result"
    }
   ],
   "source": [
    "import pandas as pd\n",
    "import re\n",
    "\n",
    "doc = []\n",
    "with open('dates.txt') as file:\n",
    "    for line in file:\n",
    "        doc.append(line)\n",
    "\n",
    "df = pd.Series(doc)\n",
    "test = df[:]\n",
    "df.head(10)"
   ]
  },
  {
   "cell_type": "code",
   "execution_count": 9,
   "metadata": {
    "collapsed": false
   },
   "outputs": [
    {
     "name": "stdout",
     "output_type": "stream",
     "text": [
      "(500,)\n",
      "(500,)\n"
     ]
    }
   ],
   "source": [
    "print(df.shape)\n",
    "print(test.shape)"
   ]
  },
  {
   "cell_type": "code",
   "execution_count": null,
   "metadata": {
    "collapsed": true
   },
   "outputs": [],
   "source": []
  },
  {
   "cell_type": "markdown",
   "metadata": {},
   "source": [
    "### Found \n",
    "- nums_only = 04/20/2009; 04/20/09; 4/20/09; 4/3/09\n",
    "- alpha_present = 'Mar 20, 2009', 'March 20, 2009','20 Mar 2009','20 March 2009','Feb 2009','Sep 2009','Oct 2010'\n",
    "'''"
   ]
  },
  {
   "cell_type": "code",
   "execution_count": 85,
   "metadata": {
    "collapsed": true
   },
   "outputs": [],
   "source": [
    "example = '''\n",
    "Mar-20-2009\n",
    "Mar. 20, 2009\n",
    "Mar 20 2009\n",
    "20 Mar. 2009\n",
    "20 March, 2009\n",
    "Mar 20th, 2009\n",
    "Mar 21st, 2009\n",
    "Mar 22nd, 2009\n",
    "\n",
    "6/2008\n",
    "12/2009\n",
    "2009\n",
    "2010'''"
   ]
  },
  {
   "cell_type": "markdown",
   "metadata": {},
   "source": [
    "### INDICES TO INVESTIGATE\n",
    "- 72 (mm-dd-yyyy): two present\n",
    "- 178, 198, 199 (Jan, Feb, ... format) : returns empty list\n",
    "- "
   ]
  },
  {
   "cell_type": "code",
   "execution_count": 221,
   "metadata": {
    "collapsed": false
   },
   "outputs": [],
   "source": [
    "def count_empties(this_df):\n",
    "    counter = 0\n",
    "    for each in this_df:\n",
    "        if (each == []) or (type(each) == str):\n",
    "            counter+=1\n",
    "    print('Dates Missing {}'.format(counter))\n",
    "    found = this_df.shape[0] - counter\n",
    "    print('Dates Found {}'.format(found))"
   ]
  },
  {
   "cell_type": "code",
   "execution_count": 490,
   "metadata": {
    "collapsed": false
   },
   "outputs": [],
   "source": [
    "# m(m)/d(d)/yy(yy), m(m)/d(d)/yy\n",
    "# numbers only: 125\n",
    "nums_only = r'\\d{1,2}[/-]\\d{1,2}[/-]\\d{2,4}'\n",
    "nums_only_df = test.str.findall(nums_only)"
   ]
  },
  {
   "cell_type": "code",
   "execution_count": 491,
   "metadata": {
    "collapsed": false
   },
   "outputs": [
    {
     "data": {
      "text/plain": [
       "[]"
      ]
     },
     "execution_count": 491,
     "metadata": {},
     "output_type": "execute_result"
    }
   ],
   "source": [
    "re.findall(nums_only,example)"
   ]
  },
  {
   "cell_type": "code",
   "execution_count": 492,
   "metadata": {
    "collapsed": false
   },
   "outputs": [
    {
     "name": "stdout",
     "output_type": "stream",
     "text": [
      "Dates Missing 375\n",
      "Dates Found 125\n"
     ]
    }
   ],
   "source": [
    "count_empties(nums_only_df)"
   ]
  },
  {
   "cell_type": "code",
   "execution_count": 493,
   "metadata": {
    "collapsed": false
   },
   "outputs": [
    {
     "data": {
      "text/plain": [
       "101      [10/05/97]\n",
       "102    [07/18/2002]\n",
       "103       [9/22/82]\n",
       "104       [2/24/74]\n",
       "105       [2/03/78]\n",
       "106     [2/11/2006]\n",
       "107       [8/22/83]\n",
       "108       [5/04/74]\n",
       "109     [7/20/2011]\n",
       "110       [6/17/95]\n",
       "111       [6/10/72]\n",
       "112      [10/16/82]\n",
       "113      [12/15/92]\n",
       "114       [12/8/97]\n",
       "115       [4/05/89]\n",
       "116      [12/04/87]\n",
       "117       [6/20/77]\n",
       "118     [4/27/2006]\n",
       "119      [07/17/92]\n",
       "120      [12/22/98]\n",
       "121      [10/02/96]\n",
       "122      [11/05/90]\n",
       "123       [5/04/77]\n",
       "124       [2/27/96]\n",
       "125              []\n",
       "dtype: object"
      ]
     },
     "execution_count": 493,
     "metadata": {},
     "output_type": "execute_result"
    }
   ],
   "source": [
    "# inspect index 72\n",
    "nums_only_df[101:126]"
   ]
  },
  {
   "cell_type": "code",
   "execution_count": 292,
   "metadata": {
    "collapsed": false
   },
   "outputs": [
    {
     "name": "stdout",
     "output_type": "stream",
     "text": [
      "Dates Missing 282\n",
      "Dates Found 218\n"
     ]
    }
   ],
   "source": [
    "# to grab dates with Month at the beginning\n",
    "#alpha_present = r'(?:\\d{1,2} )?(?:Jan|Feb|Mar|Apr|May|June|July|Aug|Sep|Oct|Nov|Dec)[a-z]* (?:\\d{2}, )?\\d{4}'\n",
    "#alpha_present = r'(?:\\d{,2} )?(?:Jan|Feb|Mar|Apr|May|June|July|Aug|Sep|Oct|Nov|Dec)[a-z,.-]*[\\s]*(?:\\d{,2}[stndth,-]*[\\s]*)?\\d{4}'\n",
    "alpha_v2 = r'(?:\\d{,2} )?(?:Jan|Feb|Mar|Apr|May|June|Jun|Jul|July|Aug|Sep|Sept|Oct|Nov|Dec)[a-z,.-]*[\\s]*(?:\\d{,2}[stndth,-]*[\\s]*)?\\d{4}'\n",
    "alpha_present_df = df.str.findall(alpha_v2)\n",
    "count_empties(alpha_present_df)"
   ]
  },
  {
   "cell_type": "code",
   "execution_count": 293,
   "metadata": {
    "collapsed": false
   },
   "outputs": [
    {
     "data": {
      "text/plain": [
       "['15 Jun 1985']"
      ]
     },
     "execution_count": 293,
     "metadata": {},
     "output_type": "execute_result"
    }
   ],
   "source": [
    "alpha_present_df.loc[178]"
   ]
  },
  {
   "cell_type": "code",
   "execution_count": 204,
   "metadata": {
    "collapsed": true
   },
   "outputs": [],
   "source": [
    "c = '''\n",
    "Mar 20th, 2009\n",
    "Mar-20-2009\n",
    "Mar 20 2009\n",
    "Mar 20th, 2009\n",
    "Mar 21st, 2009\n",
    "Mar 22nd, 2009\n",
    "'''"
   ]
  },
  {
   "cell_type": "code",
   "execution_count": 290,
   "metadata": {
    "collapsed": false
   },
   "outputs": [
    {
     "name": "stdout",
     "output_type": "stream",
     "text": [
      "11\n"
     ]
    },
    {
     "data": {
      "text/plain": [
       "['20 Mar. 2009',\n",
       " '20 March, 2009',\n",
       " 'Mar 20th, 2009',\n",
       " 'Mar-20-2009',\n",
       " 'Mar. 20, 2009',\n",
       " 'Mar 20 2009',\n",
       " '20 Mar. 2009',\n",
       " '20 March, 2009',\n",
       " 'Mar 20th, 2009',\n",
       " 'Mar 21st, 2009',\n",
       " 'Mar 22nd, 2009']"
      ]
     },
     "execution_count": 290,
     "metadata": {},
     "output_type": "execute_result"
    }
   ],
   "source": [
    "alpha_present = r'(?:\\d{,2} )?(?:Jan|Feb|Mar|Apr|May|June|Jun|Jul|July|Aug|Sep|Oct|Nov|Dec)[a-z,.-]*[\\s]*(?:\\d{,2}[stndth,-]*[\\s]*)?\\d{4}'\n",
    "gottem = re.findall(alpha_present, b)\n",
    "print(len(gottem))\n",
    "gottem\n"
   ]
  },
  {
   "cell_type": "code",
   "execution_count": 266,
   "metadata": {
    "collapsed": false
   },
   "outputs": [
    {
     "name": "stdout",
     "output_type": "stream",
     "text": [
      "Dates Missing 283\n",
      "Dates Found 217\n"
     ]
    }
   ],
   "source": [
    "count_empties(alpha_present_df)"
   ]
  },
  {
   "cell_type": "code",
   "execution_count": 267,
   "metadata": {
    "collapsed": false
   },
   "outputs": [
    {
     "data": {
      "text/plain": [
       "338"
      ]
     },
     "execution_count": 267,
     "metadata": {},
     "output_type": "execute_result"
    }
   ],
   "source": [
    "213 + 125"
   ]
  },
  {
   "cell_type": "code",
   "execution_count": 279,
   "metadata": {
    "collapsed": false
   },
   "outputs": [
    {
     "data": {
      "text/plain": [
       "['15 Jun 1985']"
      ]
     },
     "execution_count": 279,
     "metadata": {},
     "output_type": "execute_result"
    }
   ],
   "source": [
    "# in\n",
    "alpha_present_df[178]"
   ]
  },
  {
   "cell_type": "code",
   "execution_count": 108,
   "metadata": {
    "collapsed": true
   },
   "outputs": [],
   "source": [
    "def merge_found(x,y):\n",
    "    if x == []:\n",
    "        return y\n",
    "    else:\n",
    "        return x "
   ]
  },
  {
   "cell_type": "code",
   "execution_count": 120,
   "metadata": {
    "collapsed": true
   },
   "outputs": [],
   "source": [
    "def insert_missing(got_it,missing):\n",
    "    if len(got_it) == 0:\n",
    "        return missing\n",
    "        return got_it"
   ]
  },
  {
   "cell_type": "code",
   "execution_count": 300,
   "metadata": {
    "collapsed": false
   },
   "outputs": [],
   "source": [
    "found = alpha_present_df.combine(nums_only_df,merge_found)"
   ]
  },
  {
   "cell_type": "code",
   "execution_count": 318,
   "metadata": {
    "collapsed": false
   },
   "outputs": [],
   "source": [
    "single_dates = combined_df[missing]"
   ]
  },
  {
   "cell_type": "code",
   "execution_count": 320,
   "metadata": {
    "collapsed": false
   },
   "outputs": [
    {
     "data": {
      "text/plain": [
       "(157,)"
      ]
     },
     "execution_count": 320,
     "metadata": {},
     "output_type": "execute_result"
    }
   ],
   "source": [
    "#alpha_present = r'(?:\\d{,2} )?(?:Jan|Feb|Mar|Apr|May|June|Jun|Jul|July|Aug|Sep|Oct|Nov|Dec)[a-z,.-]*[\\s]*(?:\\d{,2}[stndth,-]*[\\s]*)?\\d{4}'\n",
    "nums_dates = r'(?:\\d{,2} )?(?:Jan|Feb|Mar|Apr|May|June|Jun|Jul|July|Aug|Sep|Oct|Nov|Dec)[a-z,.-]*[\\s]*(?:\\d{,2}[stndth,-]*[\\s]*)?\\d{4}'\n",
    "#single_dates"
   ]
  },
  {
   "cell_type": "code",
   "execution_count": 461,
   "metadata": {
    "collapsed": false
   },
   "outputs": [
    {
     "data": {
      "text/plain": [
       "0                                             [03/25/93]\n",
       "1                                              [6/18/85]\n",
       "2                                               [7/8/71]\n",
       "3                                              [9/27/75]\n",
       "4                                               [2/6/96]\n",
       "5                                              [7/06/79]\n",
       "6                                              [5/18/78]\n",
       "7                                             [10/24/89]\n",
       "8                                               [3/7/86]\n",
       "9                                              [4/10/71]\n",
       "10                                             [5/11/85]\n",
       "11                                             [4/09/75]\n",
       "12                                             [8/01/98]\n",
       "13                                             [1/26/72]\n",
       "14                                           [5/24/1990]\n",
       "15                                           [1/25/2011]\n",
       "16                                             [4/12/82]\n",
       "17                                          [10/13/1976]\n",
       "18                                             [4/24/98]\n",
       "19                                             [5/21/77]\n",
       "20                                             [7/21/98]\n",
       "21                                            [10/21/79]\n",
       "22                                             [3/03/90]\n",
       "23                                             [2/11/76]\n",
       "24                                          [07/25/1984]\n",
       "25                                             [4-13-82]\n",
       "26                                             [9/22/89]\n",
       "27                                             [9/02/76]\n",
       "28                                             [9/12/71]\n",
       "29                                            [10/24/86]\n",
       "                             ...                        \n",
       "470    y1983 Clinic Hospital, first hospitalization, ...\n",
       "471    tProblems Urinary incontinence : mild urge inc...\n",
       "472    .2010 - wife; nightmares and angry outbursts; ...\n",
       "473         shx of TBI (1975) ISO MVA.Medical History:\\n\n",
       "474    sPatient reported losing three friends that pa...\n",
       "475                        TSH okay in 2015 Prior EKG:\\n\n",
       "476    1989 Family Psych History: Family History of S...\n",
       "477    oEnjoys animals, had a dog x 14 yrs who died i...\n",
       "478    eHistory of small right parietal subgaleal hem...\n",
       "479    sIn KEP Psychiatryfor therapy and medications ...\n",
       "480    1. Esophageal cancer, dx: 2013, on FOLFOX with...\n",
       "481                                        y1974 (all)\\n\n",
       "482    h/o restraining order by sister/mother in 1990...\n",
       "483    sTexas Medical Center; Oklahoma for 2 weeks; 1...\n",
       "484    Death of former partner in 2004 by overdose as...\n",
       "485    Was \"average\" student.  \"I didn't have too man...\n",
       "486    Contemplating jumping off building - 1973 - di...\n",
       "487    appendectomy s/p delivery 1992 Prior relevant ...\n",
       "488    tProblems renal cell cancer : s/p nephrectomy ...\n",
       "489        ran own business for 35 years, sold in 1985\\n\n",
       "490                                  Lab: B12 969 2007\\n\n",
       "491                                   )and 8mo in 2009\\n\n",
       "492    .Moved to USA in 1986. Suffered from malnutrit...\n",
       "493                                              r1978\\n\n",
       "494    . Went to Emerson, in Newfane Alaska. Started ...\n",
       "495    1979 Family Psych History: Family History of S...\n",
       "496    therapist and friend died in ~2006 Parental/Ca...\n",
       "497                         2008 partial thyroidectomy\\n\n",
       "498    sPt describes a history of sexual abuse as a c...\n",
       "499    . In 1980, patient was living in Naples and de...\n",
       "dtype: object"
      ]
     },
     "execution_count": 461,
     "metadata": {},
     "output_type": "execute_result"
    }
   ],
   "source": [
    "combined_df"
   ]
  },
  {
   "cell_type": "code",
   "execution_count": 562,
   "metadata": {
    "collapsed": false
   },
   "outputs": [
    {
     "name": "stdout",
     "output_type": "stream",
     "text": [
      "['6/1998']\n",
      "['6/2005']\n",
      "['10/1973']\n",
      "['9/2005']\n",
      "['03/1980']\n",
      "['12/2005']\n",
      "['5/1987']\n",
      "['5/2004']\n",
      "['8/1974']\n",
      "['3/1986']\n",
      "['10/1997']\n",
      "['3/1993']\n",
      "['3/1981']\n",
      "['9/2003']\n",
      "['10/1993']\n",
      "['1/1983']\n",
      "['7/1994']\n",
      "['12/2008']\n",
      "['10/1980']\n",
      "['8/2003']\n",
      "['12/1975']\n",
      "['11/2010']\n",
      "['7/1997']\n",
      "['7/2014']\n",
      "['9/2001']\n",
      "['8/1986']\n",
      "['1/1978']\n",
      "['9/1975']\n",
      "['1/2009']\n",
      "['5/1995']\n",
      "['8/1989']\n",
      "['11/2000']\n",
      "['06/1973']\n",
      "['2/1999']\n",
      "['6/2001']\n",
      "['12/1978']\n",
      "['8/2009']\n",
      "['7/1973']\n",
      "['1/2014']\n",
      "['09/1975']\n",
      "['12/2012']\n",
      "['5/1999']\n",
      "['7/1989']\n",
      "['7/2009']\n",
      "['11/1998']\n",
      "['3/1995']\n",
      "['2/2009']\n",
      "['08/1988']\n",
      "['4/2007']\n",
      "['5/2000']\n",
      "['4/2012']\n",
      "['10/2001']\n",
      "['2/1977']\n",
      "['8/2008']\n",
      "['2/1983']\n",
      "['5/1979']\n",
      "['1/1992']\n",
      "['11/2008']\n",
      "['12/2014']\n",
      "['4/1974']\n",
      "['10/1981']\n",
      "['10/1986']\n",
      "['03/1973']\n",
      "['12/1994']\n",
      "['8/1999']\n",
      "['10/2010']\n",
      "['10/1994']\n",
      "['01/2007']\n",
      "['8/2010']\n",
      "['03/1990']\n",
      "['11/2016']\n",
      "['4/2004']\n",
      "['2/1973']\n",
      "['7/1987']\n",
      "['8/2000']\n",
      "['8/1975']\n",
      "['5/1977']\n",
      "['3/2000']\n",
      "['9/1984']\n",
      "['4/1973']\n",
      "['12/1986']\n",
      "['4/1979']\n",
      "['7/2004']\n",
      "['11/1984']\n",
      "['5/2016']\n",
      "['12/2007']\n",
      "['11/1982']\n",
      "['06/1981']\n",
      "['4/2013']\n",
      "['4/1999']\n",
      "['5/2006']\n",
      "['10/1978']\n",
      "['12/1989']\n",
      "['2/1974']\n",
      "['11/1986']\n",
      "['4/1983']\n",
      "['10/2014']\n",
      "['6/1989']\n",
      "['9/1980']\n",
      "['9/1992']\n",
      "['9/2000']\n",
      "['7/1981']\n",
      "['1/2008']\n",
      "['4/2002']\n",
      "['7/1985']\n",
      "['5/2010']\n",
      "['8/2002']\n",
      "['1/1994']\n",
      "['12/2004']\n",
      "['3/2003']\n",
      "['7/1991']\n",
      "['7/1982']\n",
      "112\n"
     ]
    }
   ],
   "source": [
    "nums_dates = r'\\d{,2}[/]+\\d{2,4}'\n",
    "nums_dates_df = combined_df.str.findall(nums_dates)\n",
    "cnt = 0\n",
    "nums_dates_good_index = []\n",
    "for entry,idx in zip(nums_dates_df,nums_dates_df.index.tolist()):\n",
    "    if type(entry) == list:\n",
    "        if len(entry) > 0:\n",
    "            print(entry)\n",
    "            cnt += 1\n",
    "            nums_dates_good_index.append(idx)\n",
    "print(cnt)"
   ]
  },
  {
   "cell_type": "code",
   "execution_count": 563,
   "metadata": {
    "collapsed": false
   },
   "outputs": [
    {
     "data": {
      "text/plain": [
       "[343,\n",
       " 344,\n",
       " 345,\n",
       " 346,\n",
       " 347,\n",
       " 348,\n",
       " 349,\n",
       " 350,\n",
       " 351,\n",
       " 352,\n",
       " 353,\n",
       " 354,\n",
       " 355,\n",
       " 356,\n",
       " 357,\n",
       " 358,\n",
       " 359,\n",
       " 360,\n",
       " 361,\n",
       " 362,\n",
       " 363,\n",
       " 364,\n",
       " 365,\n",
       " 366,\n",
       " 367,\n",
       " 368,\n",
       " 369,\n",
       " 370,\n",
       " 371,\n",
       " 372,\n",
       " 373,\n",
       " 374,\n",
       " 375,\n",
       " 376,\n",
       " 377,\n",
       " 378,\n",
       " 379,\n",
       " 380,\n",
       " 381,\n",
       " 382,\n",
       " 383,\n",
       " 384,\n",
       " 385,\n",
       " 386,\n",
       " 387,\n",
       " 388,\n",
       " 389,\n",
       " 390,\n",
       " 391,\n",
       " 392,\n",
       " 393,\n",
       " 394,\n",
       " 395,\n",
       " 396,\n",
       " 397,\n",
       " 398,\n",
       " 399,\n",
       " 400,\n",
       " 401,\n",
       " 402,\n",
       " 403,\n",
       " 404,\n",
       " 405,\n",
       " 406,\n",
       " 407,\n",
       " 408,\n",
       " 409,\n",
       " 410,\n",
       " 411,\n",
       " 412,\n",
       " 413,\n",
       " 414,\n",
       " 415,\n",
       " 416,\n",
       " 417,\n",
       " 418,\n",
       " 419,\n",
       " 420,\n",
       " 421,\n",
       " 422,\n",
       " 423,\n",
       " 424,\n",
       " 425,\n",
       " 426,\n",
       " 427,\n",
       " 428,\n",
       " 429,\n",
       " 430,\n",
       " 431,\n",
       " 432,\n",
       " 433,\n",
       " 434,\n",
       " 435,\n",
       " 436,\n",
       " 437,\n",
       " 438,\n",
       " 439,\n",
       " 440,\n",
       " 441,\n",
       " 442,\n",
       " 443,\n",
       " 444,\n",
       " 445,\n",
       " 446,\n",
       " 447,\n",
       " 448,\n",
       " 449,\n",
       " 450,\n",
       " 451,\n",
       " 452,\n",
       " 453,\n",
       " 454]"
      ]
     },
     "execution_count": 563,
     "metadata": {},
     "output_type": "execute_result"
    }
   ],
   "source": [
    "nums_dates_good_index"
   ]
  },
  {
   "cell_type": "code",
   "execution_count": 566,
   "metadata": {
    "collapsed": false
   },
   "outputs": [],
   "source": [
    "# add the newly found dates of the m(m)/(yy)yy format\n",
    "combined_df[nums_dates_good_index] = nums_dates_df[nums_dates_good_index]"
   ]
  },
  {
   "cell_type": "code",
   "execution_count": 571,
   "metadata": {
    "collapsed": false
   },
   "outputs": [
    {
     "name": "stdout",
     "output_type": "stream",
     "text": [
      "Dates Missing 45\n",
      "Dates Found 455\n"
     ]
    }
   ],
   "source": [
    "count_empties(combined_df)"
   ]
  },
  {
   "cell_type": "code",
   "execution_count": 535,
   "metadata": {
    "collapsed": true
   },
   "outputs": [],
   "source": [
    "def not_null(a,b):\n",
    "    if a.isnull():\n",
    "        return b\n",
    "    else:\n",
    "        return a"
   ]
  },
  {
   "cell_type": "code",
   "execution_count": 524,
   "metadata": {
    "collapsed": true
   },
   "outputs": [],
   "source": [
    "def merge_missing(a,b):\n",
    "    if type(a) == list:\n",
    "        return a\n",
    "    else:\n",
    "        return b"
   ]
  },
  {
   "cell_type": "code",
   "execution_count": 544,
   "metadata": {
    "collapsed": false
   },
   "outputs": [
    {
     "name": "stdout",
     "output_type": "stream",
     "text": [
      "Dates Missing 157\n",
      "Dates Found 343\n"
     ]
    }
   ],
   "source": [
    "count_empties(found)"
   ]
  },
  {
   "cell_type": "code",
   "execution_count": 546,
   "metadata": {
    "collapsed": false
   },
   "outputs": [
    {
     "data": {
      "text/plain": [
       "'6/1998 Primary Care Doctor:\\n'"
      ]
     },
     "execution_count": 546,
     "metadata": {},
     "output_type": "execute_result"
    }
   ],
   "source": [
    "combined_df.iloc[343]"
   ]
  },
  {
   "cell_type": "code",
   "execution_count": 302,
   "metadata": {
    "collapsed": false
   },
   "outputs": [],
   "source": [
    "missing = []\n",
    "found_idx = found.nonzero()\n",
    "for each in found.index.tolist():\n",
    "    if each not in found_idx[0]:\n",
    "        missing.append(each)"
   ]
  },
  {
   "cell_type": "code",
   "execution_count": 304,
   "metadata": {
    "collapsed": false
   },
   "outputs": [],
   "source": [
    "# if the entry is a list, we have the answer.  i\n",
    "# if the entry is a str it is missing\n",
    "combined_df = found.combine(df,insert_missing)"
   ]
  },
  {
   "cell_type": "code",
   "execution_count": 454,
   "metadata": {
    "collapsed": false
   },
   "outputs": [
    {
     "data": {
      "text/plain": [
       "157"
      ]
     },
     "execution_count": 454,
     "metadata": {},
     "output_type": "execute_result"
    }
   ],
   "source": [
    "count = 0\n",
    "for each in combined_df:\n",
    "    if type(each) != list:\n",
    "        count += 1\n",
    "count"
   ]
  },
  {
   "cell_type": "code",
   "execution_count": 455,
   "metadata": {
    "collapsed": false
   },
   "outputs": [
    {
     "data": {
      "text/plain": [
       "'6/1998 Primary Care Doctor:\\n'"
      ]
     },
     "execution_count": 455,
     "metadata": {},
     "output_type": "execute_result"
    }
   ],
   "source": [
    "df[missing].iloc[0]"
   ]
  },
  {
   "cell_type": "code",
   "execution_count": 263,
   "metadata": {
    "collapsed": true
   },
   "outputs": [],
   "source": [
    "alpha_v2 = r'(?:\\d{,2} )?(?:Jan|Feb|Mar|Apr|May|June|Jun|Jul|July|Aug|Sep|Oct|Nov|Dec)[a-z,.-]*[\\s]*(?:\\d{,2}[stndth,-]*[\\s]*)?\\d{4}'"
   ]
  },
  {
   "cell_type": "code",
   "execution_count": 276,
   "metadata": {
    "collapsed": false
   },
   "outputs": [
    {
     "data": {
      "text/plain": [
       "['15 Jun 1985']"
      ]
     },
     "execution_count": 276,
     "metadata": {},
     "output_type": "execute_result"
    }
   ],
   "source": [
    "re.findall(alpha_v2,combined_df.loc[178])"
   ]
  },
  {
   "cell_type": "code",
   "execution_count": 264,
   "metadata": {
    "collapsed": false
   },
   "outputs": [
    {
     "data": {
      "text/plain": [
       "['15 Jun 1985']"
      ]
     },
     "execution_count": 264,
     "metadata": {},
     "output_type": "execute_result"
    }
   ],
   "source": [
    "re.findall(alpha_v2,df[missing].iloc[0])"
   ]
  },
  {
   "cell_type": "code",
   "execution_count": 89,
   "metadata": {
    "collapsed": true
   },
   "outputs": [],
   "source": [
    "short_nums_example = '''\n",
    "6/2008\n",
    "12/2009\n",
    "2009\n",
    "2010\n",
    "'''"
   ]
  },
  {
   "cell_type": "code",
   "execution_count": 137,
   "metadata": {
    "collapsed": false
   },
   "outputs": [
    {
     "data": {
      "text/plain": [
       "['6/2008', '12/2009', '2009', '2010']"
      ]
     },
     "execution_count": 137,
     "metadata": {},
     "output_type": "execute_result"
    }
   ],
   "source": [
    "short_nums_only = r'(\\d{,2}[/-]?\\d{2,4})'\n",
    "re.findall(short_nums_only,short_nums_example)"
   ]
  },
  {
   "cell_type": "code",
   "execution_count": 139,
   "metadata": {
    "collapsed": true
   },
   "outputs": [],
   "source": [
    "def still_missing(x):\n",
    "    if type(x) == list:\n",
    "        return \"\"\n",
    "    else:\n",
    "        return x"
   ]
  },
  {
   "cell_type": "code",
   "execution_count": 141,
   "metadata": {
    "collapsed": false
   },
   "outputs": [],
   "source": [
    "temp_series = found2.apply(still_missing)"
   ]
  },
  {
   "cell_type": "code",
   "execution_count": 530,
   "metadata": {
    "collapsed": false
   },
   "outputs": [
    {
     "data": {
      "text/plain": [
       "178    15 Jun 1985 @ 11 AMCommunication with referrin...\n",
       "198                                 [ October. 11, 2013]\n",
       "199                                       [ Jan 24 1986]\n",
       "204                                      [Mar. 10, 1976]\n",
       "206                                   [ October 23 1990]\n",
       "207                                    [ August 12 2004]\n",
       "214                                     [ Sep. 10, 1974]\n",
       "219                                       [ Dec 14 1975]\n",
       "223                                   [ October 14 1974]\n",
       "227                                [September. 15, 2011]\n",
       "233                                        [ July, 1990]\n",
       "234    . Patient presents with GAD flareup in Jul 200...\n",
       "240                                         [ May, 2011]\n",
       "244                                     [ January, 2013]\n",
       "262    hHelen Ernst, M.D. last appt Jun 2002, no othe...\n",
       "270                                          [May, 2006]\n",
       "273                                    [ February, 2010]\n",
       "306                                          [May, 2004]\n",
       "311                                    [ February, 1995]\n",
       "315    rBrookhaven outpatient program in Jun 1976- lo...\n",
       "317                                         [ Mar, 1975]\n",
       "321                                         [June, 1999]\n",
       "325    .She has however developed severe anxiety and ...\n",
       "328                                         [ May, 2001]\n",
       "329                                       [ March, 2000]\n",
       "338                                         [ Apr, 1998]\n",
       "339                                       [ March, 2005]\n",
       "343                        6/1998 Primary Care Doctor:\\n\n",
       "344    s 52 y/o MWM h/o chronic depression, anxiety, ...\n",
       "345                    10/1973 Hx of Brain Injury: Yes\\n\n",
       "                             ...                        \n",
       "470    y1983 Clinic Hospital, first hospitalization, ...\n",
       "471    tProblems Urinary incontinence : mild urge inc...\n",
       "472    .2010 - wife; nightmares and angry outbursts; ...\n",
       "473         shx of TBI (1975) ISO MVA.Medical History:\\n\n",
       "474    sPatient reported losing three friends that pa...\n",
       "475                        TSH okay in 2015 Prior EKG:\\n\n",
       "476    1989 Family Psych History: Family History of S...\n",
       "477    oEnjoys animals, had a dog x 14 yrs who died i...\n",
       "478    eHistory of small right parietal subgaleal hem...\n",
       "479    sIn KEP Psychiatryfor therapy and medications ...\n",
       "480    1. Esophageal cancer, dx: 2013, on FOLFOX with...\n",
       "481                                        y1974 (all)\\n\n",
       "482    h/o restraining order by sister/mother in 1990...\n",
       "483    sTexas Medical Center; Oklahoma for 2 weeks; 1...\n",
       "484    Death of former partner in 2004 by overdose as...\n",
       "485    Was \"average\" student.  \"I didn't have too man...\n",
       "486    Contemplating jumping off building - 1973 - di...\n",
       "487    appendectomy s/p delivery 1992 Prior relevant ...\n",
       "488    tProblems renal cell cancer : s/p nephrectomy ...\n",
       "489        ran own business for 35 years, sold in 1985\\n\n",
       "490                                  Lab: B12 969 2007\\n\n",
       "491                                   )and 8mo in 2009\\n\n",
       "492    .Moved to USA in 1986. Suffered from malnutrit...\n",
       "493                                              r1978\\n\n",
       "494    . Went to Emerson, in Newfane Alaska. Started ...\n",
       "495    1979 Family Psych History: Family History of S...\n",
       "496    therapist and friend died in ~2006 Parental/Ca...\n",
       "497                         2008 partial thyroidectomy\\n\n",
       "498    sPt describes a history of sexual abuse as a c...\n",
       "499    . In 1980, patient was living in Naples and de...\n",
       "dtype: object"
      ]
     },
     "execution_count": 530,
     "metadata": {},
     "output_type": "execute_result"
    }
   ],
   "source": [
    "short_nums_df = temp_series.str.findall(short_nums_only)\n",
    "found2[short_nums_df.nonzero()[0]]"
   ]
  },
  {
   "cell_type": "code",
   "execution_count": 488,
   "metadata": {
    "collapsed": false
   },
   "outputs": [
    {
     "name": "stdout",
     "output_type": "stream",
     "text": [
      ". In 1980, patient was living in Naples and described being upset by the amount of noise generated by the neighbor living under his apartment.  He noted the woman was a heroin user and when she refused to quiet down, he walked into her apartment and \"trashed it\".  He was arrested for breaking and entering and destruction of property and was placed on probation.\n",
      "\n"
     ]
    }
   ],
   "source": [
    "print(test.iloc[499])"
   ]
  },
  {
   "cell_type": "code",
   "execution_count": 98,
   "metadata": {
    "collapsed": false
   },
   "outputs": [
    {
     "name": "stdout",
     "output_type": "stream",
     "text": [
      "Dates Missing 0\n",
      "Dates Found 500\n"
     ]
    }
   ],
   "source": [
    "count_empties(short_nums_df)"
   ]
  },
  {
   "cell_type": "code",
   "execution_count": 3,
   "metadata": {
    "collapsed": true
   },
   "outputs": [],
   "source": [
    "def date_sorter():\n",
    "    \n",
    "    # Your code here\n",
    "    \n",
    "    return # Your answer here"
   ]
  }
 ],
 "metadata": {
  "coursera": {
   "course_slug": "python-text-mining",
   "graded_item_id": "LvcWI",
   "launcher_item_id": "krne9",
   "part_id": "Mkp1I"
  },
  "kernelspec": {
   "display_name": "Python 3",
   "language": "python",
   "name": "python3"
  },
  "language_info": {
   "codemirror_mode": {
    "name": "ipython",
    "version": 3
   },
   "file_extension": ".py",
   "mimetype": "text/x-python",
   "name": "python",
   "nbconvert_exporter": "python",
   "pygments_lexer": "ipython3",
   "version": "3.6.0"
  }
 },
 "nbformat": 4,
 "nbformat_minor": 2
}
