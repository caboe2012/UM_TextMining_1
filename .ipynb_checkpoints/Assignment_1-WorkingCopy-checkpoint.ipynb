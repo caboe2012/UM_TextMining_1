{
 "cells": [
  {
   "cell_type": "markdown",
   "metadata": {},
   "source": [
    "---\n",
    "\n",
    "_You are currently looking at **version 1.0** of this notebook. To download notebooks and datafiles, as well as get help on Jupyter notebooks in the Coursera platform, visit the [Jupyter Notebook FAQ](https://www.coursera.org/learn/python-text-mining/resources/d9pwm) course resource._\n",
    "\n",
    "---"
   ]
  },
  {
   "cell_type": "markdown",
   "metadata": {},
   "source": [
    "# Assignment 1\n",
    "\n",
    "In this assignment, you'll be working with messy medical data and using regex to extract relevant infromation from the data. \n",
    "\n",
    "Each line of the `dates.txt` file corresponds to a medical note. Each note has a date that needs to be extracted, but each date is encoded in one of many formats.\n",
    "\n",
    "The goal of this assignment is to correctly identify all of the different date variants encoded in this dataset and to properly normalize and sort the dates. \n",
    "\n",
    "Here is a list of some of the variants you might encounter in this dataset:\n",
    "* 04/20/2009; 04/20/09; 4/20/09; 4/3/09\n",
    "* Mar-20-2009; Mar 20, 2009; March 20, 2009;  Mar. 20, 2009; Mar 20 2009;\n",
    "* 20 Mar 2009; 20 March 2009; 20 Mar. 2009; 20 March, 2009\n",
    "* Mar 20th, 2009; Mar 21st, 2009; Mar 22nd, 2009\n",
    "* Feb 2009; Sep 2009; Oct 2010\n",
    "* 6/2008; 12/2009\n",
    "* 2009; 2010\n",
    "\n",
    "Once you have extracted these date patterns from the text, the next step is to sort them in ascending chronological order accoring to the following rules:\n",
    "* Assume all dates in xx/xx/xx format are mm/dd/yy\n",
    "* Assume all dates where year is encoded in only two digits are years from the 1900's (e.g. 1/5/89 is January 5th, 1989)\n",
    "* If the day is missing (e.g. 9/2009), assume it is the first day of the month (e.g. September 1, 2009).\n",
    "* If the month is missing (e.g. 2010), assume it is the first of January of that year (e.g. January 1, 2010).\n",
    "\n",
    "With these rules in mind, find the correct date in each note and return a pandas Series in chronological order of the original Series' indices.\n",
    "\n",
    "For example if the original series was this:\n",
    "\n",
    "    0    1999\n",
    "    1    2010\n",
    "    2    1978\n",
    "    3    2015\n",
    "    4    1985\n",
    "\n",
    "Your function should return this:\n",
    "\n",
    "    0    2\n",
    "    1    4\n",
    "    2    0\n",
    "    3    1\n",
    "    4    3\n",
    "\n",
    "Your score will be calculated using [Kendall's tau](https://en.wikipedia.org/wiki/Kendall_rank_correlation_coefficient), a correlation measure for ordinal data.\n",
    "\n",
    "*This function should return a Series of length 500 and dtype int.*"
   ]
  },
  {
   "cell_type": "code",
   "execution_count": 6,
   "metadata": {
    "collapsed": false
   },
   "outputs": [
    {
     "data": {
      "text/plain": [
       "0         03/25/93 Total time of visit (in minutes):\\n\n",
       "1                       6/18/85 Primary Care Doctor:\\n\n",
       "2    sshe plans to move as of 7/8/71 In-Home Servic...\n",
       "3                7 on 9/27/75 Audit C Score Current:\\n\n",
       "4    2/6/96 sleep studyPain Treatment Pain Level (N...\n",
       "5                    .Per 7/06/79 Movement D/O note:\\n\n",
       "6    4, 5/18/78 Patient's thoughts about current su...\n",
       "7    10/24/89 CPT Code: 90801 - Psychiatric Diagnos...\n",
       "8                         3/7/86 SOS-10 Total Score:\\n\n",
       "9             (4/10/71)Score-1Audit C Score Current:\\n\n",
       "dtype: object"
      ]
     },
     "execution_count": 6,
     "metadata": {},
     "output_type": "execute_result"
    }
   ],
   "source": [
    "import pandas as pd\n",
    "import re\n",
    "\n",
    "doc = []\n",
    "with open('dates.txt') as file:\n",
    "    for line in file:\n",
    "        doc.append(line)\n",
    "\n",
    "df = pd.Series(doc)\n",
    "test = df[:]\n",
    "df.head(10)"
   ]
  },
  {
   "cell_type": "code",
   "execution_count": 9,
   "metadata": {
    "collapsed": false
   },
   "outputs": [
    {
     "name": "stdout",
     "output_type": "stream",
     "text": [
      "(500,)\n",
      "(500,)\n"
     ]
    }
   ],
   "source": [
    "print(df.shape)\n",
    "print(test.shape)"
   ]
  },
  {
   "cell_type": "markdown",
   "metadata": {},
   "source": [
    "### Found \n",
    "- nums_only = 04/20/2009; 04/20/09; 4/20/09; 4/3/09\n",
    "- alpha_present = 'Mar 20, 2009', 'March 20, 2009','20 Mar 2009','20 March 2009','Feb 2009','Sep 2009','Oct 2010'\n",
    "'''"
   ]
  },
  {
   "cell_type": "code",
   "execution_count": 85,
   "metadata": {
    "collapsed": true
   },
   "outputs": [],
   "source": [
    "example = '''\n",
    "Mar-20-2009\n",
    "Mar. 20, 2009\n",
    "Mar 20 2009\n",
    "20 Mar. 2009\n",
    "20 March, 2009\n",
    "Mar 20th, 2009\n",
    "Mar 21st, 2009\n",
    "Mar 22nd, 2009\n",
    "\n",
    "6/2008\n",
    "12/2009\n",
    "2009\n",
    "2010'''"
   ]
  },
  {
   "cell_type": "code",
   "execution_count": 221,
   "metadata": {
    "collapsed": false
   },
   "outputs": [],
   "source": [
    "def count_empties(this_df):\n",
    "    counter = 0\n",
    "    for each in this_df:\n",
    "        if (each == []) or (type(each) == str):\n",
    "            counter+=1\n",
    "    print('Dates Missing {}'.format(counter))\n",
    "    found = this_df.shape[0] - counter\n",
    "    print('Dates Found {}'.format(found))"
   ]
  },
  {
   "cell_type": "code",
   "execution_count": 490,
   "metadata": {
    "collapsed": false
   },
   "outputs": [],
   "source": [
    "# m(m)/d(d)/yy(yy), m(m)/d(d)/yy\n",
    "# numbers only: 125\n",
    "nums_only = r'\\d{1,2}[/-]\\d{1,2}[/-]\\d{2,4}'\n",
    "nums_only_df = test.str.findall(nums_only)"
   ]
  },
  {
   "cell_type": "code",
   "execution_count": 491,
   "metadata": {
    "collapsed": false
   },
   "outputs": [
    {
     "data": {
      "text/plain": [
       "[]"
      ]
     },
     "execution_count": 491,
     "metadata": {},
     "output_type": "execute_result"
    }
   ],
   "source": [
    "re.findall(nums_only,example)"
   ]
  },
  {
   "cell_type": "code",
   "execution_count": 492,
   "metadata": {
    "collapsed": false
   },
   "outputs": [
    {
     "name": "stdout",
     "output_type": "stream",
     "text": [
      "Dates Missing 375\n",
      "Dates Found 125\n"
     ]
    }
   ],
   "source": [
    "count_empties(nums_only_df)"
   ]
  },
  {
   "cell_type": "code",
   "execution_count": 493,
   "metadata": {
    "collapsed": false
   },
   "outputs": [
    {
     "data": {
      "text/plain": [
       "101      [10/05/97]\n",
       "102    [07/18/2002]\n",
       "103       [9/22/82]\n",
       "104       [2/24/74]\n",
       "105       [2/03/78]\n",
       "106     [2/11/2006]\n",
       "107       [8/22/83]\n",
       "108       [5/04/74]\n",
       "109     [7/20/2011]\n",
       "110       [6/17/95]\n",
       "111       [6/10/72]\n",
       "112      [10/16/82]\n",
       "113      [12/15/92]\n",
       "114       [12/8/97]\n",
       "115       [4/05/89]\n",
       "116      [12/04/87]\n",
       "117       [6/20/77]\n",
       "118     [4/27/2006]\n",
       "119      [07/17/92]\n",
       "120      [12/22/98]\n",
       "121      [10/02/96]\n",
       "122      [11/05/90]\n",
       "123       [5/04/77]\n",
       "124       [2/27/96]\n",
       "125              []\n",
       "dtype: object"
      ]
     },
     "execution_count": 493,
     "metadata": {},
     "output_type": "execute_result"
    }
   ],
   "source": [
    "# inspect index 72\n",
    "nums_only_df[101:126]"
   ]
  },
  {
   "cell_type": "code",
   "execution_count": 292,
   "metadata": {
    "collapsed": false
   },
   "outputs": [
    {
     "name": "stdout",
     "output_type": "stream",
     "text": [
      "Dates Missing 282\n",
      "Dates Found 218\n"
     ]
    }
   ],
   "source": [
    "# to grab dates with Month at the beginning\n",
    "#alpha_present = r'(?:\\d{1,2} )?(?:Jan|Feb|Mar|Apr|May|June|July|Aug|Sep|Oct|Nov|Dec)[a-z]* (?:\\d{2}, )?\\d{4}'\n",
    "#alpha_present = r'(?:\\d{,2} )?(?:Jan|Feb|Mar|Apr|May|June|July|Aug|Sep|Oct|Nov|Dec)[a-z,.-]*[\\s]*(?:\\d{,2}[stndth,-]*[\\s]*)?\\d{4}'\n",
    "alpha_v2 = r'(?:\\d{,2} )?(?:Jan|Feb|Mar|Apr|May|June|Jun|Jul|July|Aug|Sep|Sept|Oct|Nov|Dec)[a-z,.-]*[\\s]*(?:\\d{,2}[stndth,-]*[\\s]*)?\\d{4}'\n",
    "alpha_present_df = df.str.findall(alpha_v2)\n",
    "count_empties(alpha_present_df)"
   ]
  },
  {
   "cell_type": "code",
   "execution_count": 293,
   "metadata": {
    "collapsed": false
   },
   "outputs": [
    {
     "data": {
      "text/plain": [
       "['15 Jun 1985']"
      ]
     },
     "execution_count": 293,
     "metadata": {},
     "output_type": "execute_result"
    }
   ],
   "source": [
    "alpha_present_df.loc[178]"
   ]
  },
  {
   "cell_type": "code",
   "execution_count": 204,
   "metadata": {
    "collapsed": true
   },
   "outputs": [],
   "source": [
    "c = '''\n",
    "Mar 20th, 2009\n",
    "Mar-20-2009\n",
    "Mar 20 2009\n",
    "Mar 20th, 2009\n",
    "Mar 21st, 2009\n",
    "Mar 22nd, 2009\n",
    "'''"
   ]
  },
  {
   "cell_type": "code",
   "execution_count": 290,
   "metadata": {
    "collapsed": false
   },
   "outputs": [
    {
     "name": "stdout",
     "output_type": "stream",
     "text": [
      "11\n"
     ]
    },
    {
     "data": {
      "text/plain": [
       "['20 Mar. 2009',\n",
       " '20 March, 2009',\n",
       " 'Mar 20th, 2009',\n",
       " 'Mar-20-2009',\n",
       " 'Mar. 20, 2009',\n",
       " 'Mar 20 2009',\n",
       " '20 Mar. 2009',\n",
       " '20 March, 2009',\n",
       " 'Mar 20th, 2009',\n",
       " 'Mar 21st, 2009',\n",
       " 'Mar 22nd, 2009']"
      ]
     },
     "execution_count": 290,
     "metadata": {},
     "output_type": "execute_result"
    }
   ],
   "source": [
    "alpha_present = r'(?:\\d{,2} )?(?:Jan|Feb|Mar|Apr|May|June|Jun|Jul|July|Aug|Sep|Oct|Nov|Dec)[a-z,.-]*[\\s]*(?:\\d{,2}[stndth,-]*[\\s]*)?\\d{4}'\n",
    "gottem = re.findall(alpha_present, b)\n",
    "print(len(gottem))\n",
    "gottem\n"
   ]
  },
  {
   "cell_type": "code",
   "execution_count": 266,
   "metadata": {
    "collapsed": false
   },
   "outputs": [
    {
     "name": "stdout",
     "output_type": "stream",
     "text": [
      "Dates Missing 283\n",
      "Dates Found 217\n"
     ]
    }
   ],
   "source": [
    "count_empties(alpha_present_df)"
   ]
  },
  {
   "cell_type": "code",
   "execution_count": 267,
   "metadata": {
    "collapsed": false
   },
   "outputs": [
    {
     "data": {
      "text/plain": [
       "338"
      ]
     },
     "execution_count": 267,
     "metadata": {},
     "output_type": "execute_result"
    }
   ],
   "source": [
    "213 + 125"
   ]
  },
  {
   "cell_type": "code",
   "execution_count": 279,
   "metadata": {
    "collapsed": false
   },
   "outputs": [
    {
     "data": {
      "text/plain": [
       "['15 Jun 1985']"
      ]
     },
     "execution_count": 279,
     "metadata": {},
     "output_type": "execute_result"
    }
   ],
   "source": [
    "# in\n",
    "alpha_present_df[178]"
   ]
  },
  {
   "cell_type": "code",
   "execution_count": 108,
   "metadata": {
    "collapsed": true
   },
   "outputs": [],
   "source": [
    "def merge_found(x,y):\n",
    "    if x == []:\n",
    "        return y\n",
    "    else:\n",
    "        return x "
   ]
  },
  {
   "cell_type": "code",
   "execution_count": 120,
   "metadata": {
    "collapsed": true
   },
   "outputs": [],
   "source": [
    "def insert_missing(got_it,missing):\n",
    "    if len(got_it) == 0:\n",
    "        return missing\n",
    "        return got_it"
   ]
  },
  {
   "cell_type": "code",
   "execution_count": 300,
   "metadata": {
    "collapsed": false
   },
   "outputs": [],
   "source": [
    "found = alpha_present_df.combine(nums_only_df,merge_found)"
   ]
  },
  {
   "cell_type": "code",
   "execution_count": 318,
   "metadata": {
    "collapsed": false
   },
   "outputs": [],
   "source": [
    "single_dates = combined_df[missing]"
   ]
  },
  {
   "cell_type": "code",
   "execution_count": 320,
   "metadata": {
    "collapsed": false
   },
   "outputs": [
    {
     "data": {
      "text/plain": [
       "(157,)"
      ]
     },
     "execution_count": 320,
     "metadata": {},
     "output_type": "execute_result"
    }
   ],
   "source": [
    "#alpha_present = r'(?:\\d{,2} )?(?:Jan|Feb|Mar|Apr|May|June|Jun|Jul|July|Aug|Sep|Oct|Nov|Dec)[a-z,.-]*[\\s]*(?:\\d{,2}[stndth,-]*[\\s]*)?\\d{4}'\n",
    "nums_dates = r'(?:\\d{,2} )?(?:Jan|Feb|Mar|Apr|May|June|Jun|Jul|July|Aug|Sep|Oct|Nov|Dec)[a-z,.-]*[\\s]*(?:\\d{,2}[stndth,-]*[\\s]*)?\\d{4}'\n",
    "#single_dates"
   ]
  },
  {
   "cell_type": "code",
   "execution_count": 461,
   "metadata": {
    "collapsed": false
   },
   "outputs": [
    {
     "data": {
      "text/plain": [
       "0                                             [03/25/93]\n",
       "1                                              [6/18/85]\n",
       "2                                               [7/8/71]\n",
       "3                                              [9/27/75]\n",
       "4                                               [2/6/96]\n",
       "5                                              [7/06/79]\n",
       "6                                              [5/18/78]\n",
       "7                                             [10/24/89]\n",
       "8                                               [3/7/86]\n",
       "9                                              [4/10/71]\n",
       "10                                             [5/11/85]\n",
       "11                                             [4/09/75]\n",
       "12                                             [8/01/98]\n",
       "13                                             [1/26/72]\n",
       "14                                           [5/24/1990]\n",
       "15                                           [1/25/2011]\n",
       "16                                             [4/12/82]\n",
       "17                                          [10/13/1976]\n",
       "18                                             [4/24/98]\n",
       "19                                             [5/21/77]\n",
       "20                                             [7/21/98]\n",
       "21                                            [10/21/79]\n",
       "22                                             [3/03/90]\n",
       "23                                             [2/11/76]\n",
       "24                                          [07/25/1984]\n",
       "25                                             [4-13-82]\n",
       "26                                             [9/22/89]\n",
       "27                                             [9/02/76]\n",
       "28                                             [9/12/71]\n",
       "29                                            [10/24/86]\n",
       "                             ...                        \n",
       "470    y1983 Clinic Hospital, first hospitalization, ...\n",
       "471    tProblems Urinary incontinence : mild urge inc...\n",
       "472    .2010 - wife; nightmares and angry outbursts; ...\n",
       "473         shx of TBI (1975) ISO MVA.Medical History:\\n\n",
       "474    sPatient reported losing three friends that pa...\n",
       "475                        TSH okay in 2015 Prior EKG:\\n\n",
       "476    1989 Family Psych History: Family History of S...\n",
       "477    oEnjoys animals, had a dog x 14 yrs who died i...\n",
       "478    eHistory of small right parietal subgaleal hem...\n",
       "479    sIn KEP Psychiatryfor therapy and medications ...\n",
       "480    1. Esophageal cancer, dx: 2013, on FOLFOX with...\n",
       "481                                        y1974 (all)\\n\n",
       "482    h/o restraining order by sister/mother in 1990...\n",
       "483    sTexas Medical Center; Oklahoma for 2 weeks; 1...\n",
       "484    Death of former partner in 2004 by overdose as...\n",
       "485    Was \"average\" student.  \"I didn't have too man...\n",
       "486    Contemplating jumping off building - 1973 - di...\n",
       "487    appendectomy s/p delivery 1992 Prior relevant ...\n",
       "488    tProblems renal cell cancer : s/p nephrectomy ...\n",
       "489        ran own business for 35 years, sold in 1985\\n\n",
       "490                                  Lab: B12 969 2007\\n\n",
       "491                                   )and 8mo in 2009\\n\n",
       "492    .Moved to USA in 1986. Suffered from malnutrit...\n",
       "493                                              r1978\\n\n",
       "494    . Went to Emerson, in Newfane Alaska. Started ...\n",
       "495    1979 Family Psych History: Family History of S...\n",
       "496    therapist and friend died in ~2006 Parental/Ca...\n",
       "497                         2008 partial thyroidectomy\\n\n",
       "498    sPt describes a history of sexual abuse as a c...\n",
       "499    . In 1980, patient was living in Naples and de...\n",
       "dtype: object"
      ]
     },
     "execution_count": 461,
     "metadata": {},
     "output_type": "execute_result"
    }
   ],
   "source": [
    "combined_df"
   ]
  },
  {
   "cell_type": "code",
   "execution_count": 562,
   "metadata": {
    "collapsed": false
   },
   "outputs": [
    {
     "name": "stdout",
     "output_type": "stream",
     "text": [
      "['6/1998']\n",
      "['6/2005']\n",
      "['10/1973']\n",
      "['9/2005']\n",
      "['03/1980']\n",
      "['12/2005']\n",
      "['5/1987']\n",
      "['5/2004']\n",
      "['8/1974']\n",
      "['3/1986']\n",
      "['10/1997']\n",
      "['3/1993']\n",
      "['3/1981']\n",
      "['9/2003']\n",
      "['10/1993']\n",
      "['1/1983']\n",
      "['7/1994']\n",
      "['12/2008']\n",
      "['10/1980']\n",
      "['8/2003']\n",
      "['12/1975']\n",
      "['11/2010']\n",
      "['7/1997']\n",
      "['7/2014']\n",
      "['9/2001']\n",
      "['8/1986']\n",
      "['1/1978']\n",
      "['9/1975']\n",
      "['1/2009']\n",
      "['5/1995']\n",
      "['8/1989']\n",
      "['11/2000']\n",
      "['06/1973']\n",
      "['2/1999']\n",
      "['6/2001']\n",
      "['12/1978']\n",
      "['8/2009']\n",
      "['7/1973']\n",
      "['1/2014']\n",
      "['09/1975']\n",
      "['12/2012']\n",
      "['5/1999']\n",
      "['7/1989']\n",
      "['7/2009']\n",
      "['11/1998']\n",
      "['3/1995']\n",
      "['2/2009']\n",
      "['08/1988']\n",
      "['4/2007']\n",
      "['5/2000']\n",
      "['4/2012']\n",
      "['10/2001']\n",
      "['2/1977']\n",
      "['8/2008']\n",
      "['2/1983']\n",
      "['5/1979']\n",
      "['1/1992']\n",
      "['11/2008']\n",
      "['12/2014']\n",
      "['4/1974']\n",
      "['10/1981']\n",
      "['10/1986']\n",
      "['03/1973']\n",
      "['12/1994']\n",
      "['8/1999']\n",
      "['10/2010']\n",
      "['10/1994']\n",
      "['01/2007']\n",
      "['8/2010']\n",
      "['03/1990']\n",
      "['11/2016']\n",
      "['4/2004']\n",
      "['2/1973']\n",
      "['7/1987']\n",
      "['8/2000']\n",
      "['8/1975']\n",
      "['5/1977']\n",
      "['3/2000']\n",
      "['9/1984']\n",
      "['4/1973']\n",
      "['12/1986']\n",
      "['4/1979']\n",
      "['7/2004']\n",
      "['11/1984']\n",
      "['5/2016']\n",
      "['12/2007']\n",
      "['11/1982']\n",
      "['06/1981']\n",
      "['4/2013']\n",
      "['4/1999']\n",
      "['5/2006']\n",
      "['10/1978']\n",
      "['12/1989']\n",
      "['2/1974']\n",
      "['11/1986']\n",
      "['4/1983']\n",
      "['10/2014']\n",
      "['6/1989']\n",
      "['9/1980']\n",
      "['9/1992']\n",
      "['9/2000']\n",
      "['7/1981']\n",
      "['1/2008']\n",
      "['4/2002']\n",
      "['7/1985']\n",
      "['5/2010']\n",
      "['8/2002']\n",
      "['1/1994']\n",
      "['12/2004']\n",
      "['3/2003']\n",
      "['7/1991']\n",
      "['7/1982']\n",
      "112\n"
     ]
    }
   ],
   "source": [
    "nums_dates = r'\\d{,2}[/]+\\d{2,4}'\n",
    "nums_dates_df = combined_df.str.findall(nums_dates)\n",
    "cnt = 0\n",
    "nums_dates_good_index = []\n",
    "for entry,idx in zip(nums_dates_df,nums_dates_df.index.tolist()):\n",
    "    if type(entry) == list:\n",
    "        if len(entry) > 0:\n",
    "            print(entry)\n",
    "            cnt += 1\n",
    "            nums_dates_good_index.append(idx)\n",
    "print(cnt)"
   ]
  },
  {
   "cell_type": "code",
   "execution_count": 563,
   "metadata": {
    "collapsed": false
   },
   "outputs": [
    {
     "data": {
      "text/plain": [
       "[343,\n",
       " 344,\n",
       " 345,\n",
       " 346,\n",
       " 347,\n",
       " 348,\n",
       " 349,\n",
       " 350,\n",
       " 351,\n",
       " 352,\n",
       " 353,\n",
       " 354,\n",
       " 355,\n",
       " 356,\n",
       " 357,\n",
       " 358,\n",
       " 359,\n",
       " 360,\n",
       " 361,\n",
       " 362,\n",
       " 363,\n",
       " 364,\n",
       " 365,\n",
       " 366,\n",
       " 367,\n",
       " 368,\n",
       " 369,\n",
       " 370,\n",
       " 371,\n",
       " 372,\n",
       " 373,\n",
       " 374,\n",
       " 375,\n",
       " 376,\n",
       " 377,\n",
       " 378,\n",
       " 379,\n",
       " 380,\n",
       " 381,\n",
       " 382,\n",
       " 383,\n",
       " 384,\n",
       " 385,\n",
       " 386,\n",
       " 387,\n",
       " 388,\n",
       " 389,\n",
       " 390,\n",
       " 391,\n",
       " 392,\n",
       " 393,\n",
       " 394,\n",
       " 395,\n",
       " 396,\n",
       " 397,\n",
       " 398,\n",
       " 399,\n",
       " 400,\n",
       " 401,\n",
       " 402,\n",
       " 403,\n",
       " 404,\n",
       " 405,\n",
       " 406,\n",
       " 407,\n",
       " 408,\n",
       " 409,\n",
       " 410,\n",
       " 411,\n",
       " 412,\n",
       " 413,\n",
       " 414,\n",
       " 415,\n",
       " 416,\n",
       " 417,\n",
       " 418,\n",
       " 419,\n",
       " 420,\n",
       " 421,\n",
       " 422,\n",
       " 423,\n",
       " 424,\n",
       " 425,\n",
       " 426,\n",
       " 427,\n",
       " 428,\n",
       " 429,\n",
       " 430,\n",
       " 431,\n",
       " 432,\n",
       " 433,\n",
       " 434,\n",
       " 435,\n",
       " 436,\n",
       " 437,\n",
       " 438,\n",
       " 439,\n",
       " 440,\n",
       " 441,\n",
       " 442,\n",
       " 443,\n",
       " 444,\n",
       " 445,\n",
       " 446,\n",
       " 447,\n",
       " 448,\n",
       " 449,\n",
       " 450,\n",
       " 451,\n",
       " 452,\n",
       " 453,\n",
       " 454]"
      ]
     },
     "execution_count": 563,
     "metadata": {},
     "output_type": "execute_result"
    }
   ],
   "source": [
    "nums_dates_good_index"
   ]
  },
  {
   "cell_type": "code",
   "execution_count": 566,
   "metadata": {
    "collapsed": false
   },
   "outputs": [],
   "source": [
    "# add the newly found dates of the m(m)/(yy)yy format\n",
    "combined_df[nums_dates_good_index] = nums_dates_df[nums_dates_good_index]"
   ]
  },
  {
   "cell_type": "code",
   "execution_count": 571,
   "metadata": {
    "collapsed": false
   },
   "outputs": [
    {
     "name": "stdout",
     "output_type": "stream",
     "text": [
      "Dates Missing 45\n",
      "Dates Found 455\n"
     ]
    }
   ],
   "source": [
    "count_empties(combined_df)"
   ]
  },
  {
   "cell_type": "code",
   "execution_count": 535,
   "metadata": {
    "collapsed": true
   },
   "outputs": [],
   "source": [
    "def not_null(a,b):\n",
    "    if a.isnull():\n",
    "        return b\n",
    "    else:\n",
    "        return a"
   ]
  },
  {
   "cell_type": "markdown",
   "metadata": {},
   "source": []
  },
  {
   "cell_type": "code",
   "execution_count": 524,
   "metadata": {
    "collapsed": true
   },
   "outputs": [],
   "source": [
    "def merge_missing(a,b):\n",
    "    if type(a) == list:\n",
    "        return a\n",
    "    else:\n",
    "        return b"
   ]
  },
  {
   "cell_type": "code",
   "execution_count": 544,
   "metadata": {
    "collapsed": false
   },
   "outputs": [
    {
     "name": "stdout",
     "output_type": "stream",
     "text": [
      "Dates Missing 157\n",
      "Dates Found 343\n"
     ]
    }
   ],
   "source": [
    "count_empties(found)"
   ]
  },
  {
   "cell_type": "code",
   "execution_count": 546,
   "metadata": {
    "collapsed": false
   },
   "outputs": [
    {
     "data": {
      "text/plain": [
       "'6/1998 Primary Care Doctor:\\n'"
      ]
     },
     "execution_count": 546,
     "metadata": {},
     "output_type": "execute_result"
    }
   ],
   "source": [
    "combined_df.iloc[343]"
   ]
  },
  {
   "cell_type": "code",
   "execution_count": 302,
   "metadata": {
    "collapsed": false
   },
   "outputs": [],
   "source": [
    "missing = []\n",
    "found_idx = found.nonzero()\n",
    "for each in found.index.tolist():\n",
    "    if each not in found_idx[0]:\n",
    "        missing.append(each)"
   ]
  },
  {
   "cell_type": "code",
   "execution_count": 304,
   "metadata": {
    "collapsed": false
   },
   "outputs": [],
   "source": [
    "# if the entry is a list, we have the answer.  i\n",
    "# if the entry is a str it is missing\n",
    "combined_df = found.combine(df,insert_missing)"
   ]
  },
  {
   "cell_type": "code",
   "execution_count": 454,
   "metadata": {
    "collapsed": false
   },
   "outputs": [
    {
     "data": {
      "text/plain": [
       "157"
      ]
     },
     "execution_count": 454,
     "metadata": {},
     "output_type": "execute_result"
    }
   ],
   "source": [
    "count = 0\n",
    "for each in combined_df:\n",
    "    if type(each) != list:\n",
    "        count += 1\n",
    "count"
   ]
  },
  {
   "cell_type": "code",
   "execution_count": 455,
   "metadata": {
    "collapsed": false
   },
   "outputs": [
    {
     "data": {
      "text/plain": [
       "'6/1998 Primary Care Doctor:\\n'"
      ]
     },
     "execution_count": 455,
     "metadata": {},
     "output_type": "execute_result"
    }
   ],
   "source": [
    "df[missing].iloc[0]"
   ]
  },
  {
   "cell_type": "code",
   "execution_count": 263,
   "metadata": {
    "collapsed": true
   },
   "outputs": [],
   "source": [
    "alpha_v2 = r'(?:\\d{,2} )?(?:Jan|Feb|Mar|Apr|May|June|Jun|Jul|July|Aug|Sep|Oct|Nov|Dec)[a-z,.-]*[\\s]*(?:\\d{,2}[stndth,-]*[\\s]*)?\\d{4}'"
   ]
  },
  {
   "cell_type": "code",
   "execution_count": 276,
   "metadata": {
    "collapsed": false
   },
   "outputs": [
    {
     "data": {
      "text/plain": [
       "['15 Jun 1985']"
      ]
     },
     "execution_count": 276,
     "metadata": {},
     "output_type": "execute_result"
    }
   ],
   "source": [
    "re.findall(alpha_v2,combined_df.loc[178])"
   ]
  },
  {
   "cell_type": "code",
   "execution_count": 264,
   "metadata": {
    "collapsed": false
   },
   "outputs": [
    {
     "data": {
      "text/plain": [
       "['15 Jun 1985']"
      ]
     },
     "execution_count": 264,
     "metadata": {},
     "output_type": "execute_result"
    }
   ],
   "source": [
    "re.findall(alpha_v2,df[missing].iloc[0])"
   ]
  },
  {
   "cell_type": "code",
   "execution_count": 89,
   "metadata": {
    "collapsed": true
   },
   "outputs": [],
   "source": [
    "short_nums_example = '''\n",
    "6/2008\n",
    "12/2009\n",
    "2009\n",
    "2010\n",
    "'''"
   ]
  },
  {
   "cell_type": "code",
   "execution_count": 137,
   "metadata": {
    "collapsed": false
   },
   "outputs": [
    {
     "data": {
      "text/plain": [
       "['6/2008', '12/2009', '2009', '2010']"
      ]
     },
     "execution_count": 137,
     "metadata": {},
     "output_type": "execute_result"
    }
   ],
   "source": [
    "short_nums_only = r'(\\d{,2}[/-]?\\d{2,4})'\n",
    "re.findall(short_nums_only,short_nums_example)"
   ]
  },
  {
   "cell_type": "code",
   "execution_count": 139,
   "metadata": {
    "collapsed": true
   },
   "outputs": [],
   "source": [
    "def still_missing(x):\n",
    "    if type(x) == list:\n",
    "        return \"\"\n",
    "    else:\n",
    "        return x"
   ]
  },
  {
   "cell_type": "code",
   "execution_count": 141,
   "metadata": {
    "collapsed": false
   },
   "outputs": [],
   "source": [
    "temp_series = found2.apply(still_missing)"
   ]
  },
  {
   "cell_type": "code",
   "execution_count": 530,
   "metadata": {
    "collapsed": false
   },
   "outputs": [
    {
     "data": {
      "text/plain": [
       "178    15 Jun 1985 @ 11 AMCommunication with referrin...\n",
       "198                                 [ October. 11, 2013]\n",
       "199                                       [ Jan 24 1986]\n",
       "204                                      [Mar. 10, 1976]\n",
       "206                                   [ October 23 1990]\n",
       "207                                    [ August 12 2004]\n",
       "214                                     [ Sep. 10, 1974]\n",
       "219                                       [ Dec 14 1975]\n",
       "223                                   [ October 14 1974]\n",
       "227                                [September. 15, 2011]\n",
       "233                                        [ July, 1990]\n",
       "234    . Patient presents with GAD flareup in Jul 200...\n",
       "240                                         [ May, 2011]\n",
       "244                                     [ January, 2013]\n",
       "262    hHelen Ernst, M.D. last appt Jun 2002, no othe...\n",
       "270                                          [May, 2006]\n",
       "273                                    [ February, 2010]\n",
       "306                                          [May, 2004]\n",
       "311                                    [ February, 1995]\n",
       "315    rBrookhaven outpatient program in Jun 1976- lo...\n",
       "317                                         [ Mar, 1975]\n",
       "321                                         [June, 1999]\n",
       "325    .She has however developed severe anxiety and ...\n",
       "328                                         [ May, 2001]\n",
       "329                                       [ March, 2000]\n",
       "338                                         [ Apr, 1998]\n",
       "339                                       [ March, 2005]\n",
       "343                        6/1998 Primary Care Doctor:\\n\n",
       "344    s 52 y/o MWM h/o chronic depression, anxiety, ...\n",
       "345                    10/1973 Hx of Brain Injury: Yes\\n\n",
       "                             ...                        \n",
       "470    y1983 Clinic Hospital, first hospitalization, ...\n",
       "471    tProblems Urinary incontinence : mild urge inc...\n",
       "472    .2010 - wife; nightmares and angry outbursts; ...\n",
       "473         shx of TBI (1975) ISO MVA.Medical History:\\n\n",
       "474    sPatient reported losing three friends that pa...\n",
       "475                        TSH okay in 2015 Prior EKG:\\n\n",
       "476    1989 Family Psych History: Family History of S...\n",
       "477    oEnjoys animals, had a dog x 14 yrs who died i...\n",
       "478    eHistory of small right parietal subgaleal hem...\n",
       "479    sIn KEP Psychiatryfor therapy and medications ...\n",
       "480    1. Esophageal cancer, dx: 2013, on FOLFOX with...\n",
       "481                                        y1974 (all)\\n\n",
       "482    h/o restraining order by sister/mother in 1990...\n",
       "483    sTexas Medical Center; Oklahoma for 2 weeks; 1...\n",
       "484    Death of former partner in 2004 by overdose as...\n",
       "485    Was \"average\" student.  \"I didn't have too man...\n",
       "486    Contemplating jumping off building - 1973 - di...\n",
       "487    appendectomy s/p delivery 1992 Prior relevant ...\n",
       "488    tProblems renal cell cancer : s/p nephrectomy ...\n",
       "489        ran own business for 35 years, sold in 1985\\n\n",
       "490                                  Lab: B12 969 2007\\n\n",
       "491                                   )and 8mo in 2009\\n\n",
       "492    .Moved to USA in 1986. Suffered from malnutrit...\n",
       "493                                              r1978\\n\n",
       "494    . Went to Emerson, in Newfane Alaska. Started ...\n",
       "495    1979 Family Psych History: Family History of S...\n",
       "496    therapist and friend died in ~2006 Parental/Ca...\n",
       "497                         2008 partial thyroidectomy\\n\n",
       "498    sPt describes a history of sexual abuse as a c...\n",
       "499    . In 1980, patient was living in Naples and de...\n",
       "dtype: object"
      ]
     },
     "execution_count": 530,
     "metadata": {},
     "output_type": "execute_result"
    }
   ],
   "source": [
    "short_nums_df = temp_series.str.findall(short_nums_only)\n",
    "found2[short_nums_df.nonzero()[0]]"
   ]
  },
  {
   "cell_type": "code",
   "execution_count": 488,
   "metadata": {
    "collapsed": false
   },
   "outputs": [
    {
     "name": "stdout",
     "output_type": "stream",
     "text": [
      ". In 1980, patient was living in Naples and described being upset by the amount of noise generated by the neighbor living under his apartment.  He noted the woman was a heroin user and when she refused to quiet down, he walked into her apartment and \"trashed it\".  He was arrested for breaking and entering and destruction of property and was placed on probation.\n",
      "\n"
     ]
    }
   ],
   "source": [
    "print(test.iloc[499])"
   ]
  },
  {
   "cell_type": "code",
   "execution_count": 98,
   "metadata": {
    "collapsed": false
   },
   "outputs": [
    {
     "name": "stdout",
     "output_type": "stream",
     "text": [
      "Dates Missing 0\n",
      "Dates Found 500\n"
     ]
    }
   ],
   "source": [
    "count_empties(short_nums_df)"
   ]
  },
  {
   "cell_type": "code",
   "execution_count": 573,
   "metadata": {
    "collapsed": false
   },
   "outputs": [
    {
     "name": "stdout",
     "output_type": "stream",
     "text": [
      "Dates Missing 45\n",
      "Dates Found 455\n"
     ]
    }
   ],
   "source": [
    "count_empties(combined_df)"
   ]
  },
  {
   "cell_type": "code",
   "execution_count": 588,
   "metadata": {
    "collapsed": false
   },
   "outputs": [
    {
     "data": {
      "text/plain": [
       "['sHemmorage caused by probe in 1984 Medical History:\\n',\n",
       " 'sHas been at MYH since his treaters in NE retired in 2000. Was seen in NE for 20 years. Previouysly seen by Drs. Brandy Ivery and Quinn Prater. Prior medication trials (including efficacy, reasons discontinued):\\n',\n",
       " 'Pt joined Army reserves in 2001 and has 3 years left in this commitment.-Mental Status Exam Was the exam performed? (If not, indicate reason): Yes\\n',\n",
       " 'one sister from whom he is estranged due to her opiate dependence, legal conflict over mother\\'s house following father\\'s death in 1982, \"I dont\\' want to see family ever again\"Past verbal, emotional, physical, sexual abuse: Patient Declined\\n',\n",
       " 'sSince 1998. Prior medication trials (including efficacy, reasons discontinued):\\n',\n",
       " '1 Ex-smoker : quit 2012\\n',\n",
       " '. Age 16, 1991, frontal impact. out for two weeks from sports.\\n',\n",
       " 'sLexapro (1988-now): Good response (anxiety)\\n',\n",
       " 's      25 year old engaged to be married Optician of Irish descent. She has a history of severe obesity necessitating a gastric bypass in 2014 (mother had a gastric bypass some years before). \"The doctor said I needed to stop eating or I was going to end up in a coffin.\"  Pt came to the US from Ireland at age 3 and lived with her grandparents initially, which was very stabilizing. Pt reports that sadness and anxiety symptoms began after her grandfather\\'s death when she was in 3rd grade. \"I grew up in a strict Irish Catholic atmosphere and my parents were hardest on me because I was the oldest. She reports regular verbal, emotional, physical abuse from both parents throughout childhood.  She continues to live with her parents and reports that they get along OK, but they don\\'t talk about the past. Stilll feels \"a little low and irritable.\"\\n',\n",
       " '8Complications from brain hemmorage in 2016 Axis IV: Economic problems; Occupational problems; Problems related to social environment\\n',\n",
       " '.Age, 19, 1976, playing football, frontal impact. out for two weeks from sports.\\n',\n",
       " 's1981  Swedish-American Hospital\\n',\n",
       " 'aS/P suicide attempt 2011 Hx of Outpatient Treatment: Yes\\n',\n",
       " 'Patient has a history of suicidal ideation with plan. She denied ever attempting to take her life, but noted coming close to it in the past. Patient also reported that she has not had suicidal ideation, intent, or plan since 1997, other than this one instance this past week of passive ideation. Patient committed to the safety plan, which is to call 911, or call her sister if she is unable to call 911 (who would call 911 for her), or go to the nearest ER and then page the current writer. She also has the number for the crisis hotline and related that she could also call her mental health counselor that she sees at DMC. Multi-Axial Diagnoses/Assessment Anxiety Disorders 300.3 Obsessive Compulsive Disorder\\n',\n",
       " 'Born and raised in Fowlerville, IN.  Parents divorced when she was young, states that it was a \"bad\" divorce.  Received her college degree from Allegheny College in 2003.  Past verbal, emotional, physical, sexual abuse: No\\n',\n",
       " 'y1983 Clinic Hospital, first hospitalization, s/p SA by OD\\n',\n",
       " 'tProblems Urinary incontinence : mild urge incontinence, noted in 1999.\\n',\n",
       " \".2010 - wife; nightmares and angry outbursts; drinking a lot; living in deceased grandmother's house with wife.  Working for American Electric Power- billing.\\n\",\n",
       " 'shx of TBI (1975) ISO MVA.Medical History:\\n',\n",
       " 'sPatient reported losing three friends that passed away during his deployment, including a close friend Jacques, and two other friends that he lived with for a period of time. A fourth friend passed away prior to his deployment in 1972.  Patient reported thinking about his friends daily and described his feelings of grief as remaining constant since they died.  Alcohol Use: How often did you have a drink containing alcohol in the past year: Two to four times a month (2 points)\\n',\n",
       " 'TSH okay in 2015 Prior EKG:\\n',\n",
       " '1989 Family Psych History: Family History of Suicidal Behavior: Ideation/Threat(s)\\n',\n",
       " 'oEnjoys animals, had a dog x 14 yrs who died in 1994 Interpersonal Interactions/ Concerns:\\n',\n",
       " 'eHistory of small right parietal subgaleal hematoma s/p MVA (1993)\\n',\n",
       " 'sIn KEP Psychiatryfor therapy and medications since 1996 Prior medication trials (including efficacy, reasons discontinued):\\n',\n",
       " '1. Esophageal cancer, dx: 2013, on FOLFOX with oxaliplatin desensitization\\n',\n",
       " 'y1974 (all)\\n',\n",
       " 'h/o restraining order by sister/mother in 1990-- petitioned against this, no current legal problemsDoes patient have a Legal Guardian, Rep Payee, or Conservatorship (If yes, please include name and phone #): No\\n',\n",
       " 'sTexas Medical Center; Oklahoma for 2 weeks; 1995\\n',\n",
       " 'Death of former partner in 2004 by overdose as noted aboveParental/Caregiver obligations:\\n',\n",
       " 'Was \"average\" student.  \"I didn\\'t have too many friends at home at school, and was picked on a bit in school.\"  Went to college and really enjoyed, made good friends, still close with some of them.  Went to 6 year college/engineering program.  Has been employed f/t as materials engineer since graduated in 1987.Family history and relationships:\\n',\n",
       " 'Contemplating jumping off building - 1973 - difficulty writing paper.\\n',\n",
       " 'appendectomy s/p delivery 1992 Prior relevant labs:\\n',\n",
       " 'tProblems renal cell cancer : s/p nephrectomy 1977\\n',\n",
       " 'ran own business for 35 years, sold in 1985\\n',\n",
       " 'Lab: B12 969 2007\\n',\n",
       " ')and 8mo in 2009\\n',\n",
       " '.Moved to USA in 1986. Suffered from malnutrition but denies physical/sexual/emotional abuse.\\n',\n",
       " 'r1978\\n',\n",
       " '. Went to Emerson, in Newfane Alaska. Started in 2002 at CNM. Generally likes job, does not have time to do what she needs to do. Feels she is working more than should be.\\n',\n",
       " '1979 Family Psych History: Family History of Suicidal Behavior: None\\n',\n",
       " 'therapist and friend died in ~2006 Parental/Caregiver obligations:\\n',\n",
       " '2008 partial thyroidectomy\\n',\n",
       " 'sPt describes a history of sexual abuse as a child; also describes the experience of finding a former partner after he died secondary to overdose in 2005 as traumaticPTSD: Does the patient feel themselves getting very upset whenever they are reminded of their traumatic experience: Yes\\n',\n",
       " '. In 1980, patient was living in Naples and described being upset by the amount of noise generated by the neighbor living under his apartment.  He noted the woman was a heroin user and when she refused to quiet down, he walked into her apartment and \"trashed it\".  He was arrested for breaking and entering and destruction of property and was placed on probation.\\n']"
      ]
     },
     "execution_count": 588,
     "metadata": {},
     "output_type": "execute_result"
    }
   ],
   "source": [
    "[each for each in combined_df if type(each) == str]"
   ]
  },
  {
   "cell_type": "code",
   "execution_count": 594,
   "metadata": {
    "collapsed": false
   },
   "outputs": [],
   "source": [
    "# regex for year only\n",
    "only_year = r'[a-zA-Z]?(\\d{2,4})'\n",
    "only_year_df = combined_df.str.findall(only_year)"
   ]
  },
  {
   "cell_type": "code",
   "execution_count": 598,
   "metadata": {
    "collapsed": true
   },
   "outputs": [],
   "source": [
    "def get_good_index(temp_df):\n",
    "    cnt = 0\n",
    "    good_index = []\n",
    "    for entry,idx in zip(temp_df,temp_df.index.tolist()):\n",
    "        if type(entry) == list:\n",
    "            if len(entry) > 0:\n",
    "                print(entry)\n",
    "                cnt += 1\n",
    "                good_index.append(idx)\n",
    "    return(good_index)"
   ]
  },
  {
   "cell_type": "code",
   "execution_count": 599,
   "metadata": {
    "collapsed": false
   },
   "outputs": [
    {
     "name": "stdout",
     "output_type": "stream",
     "text": [
      "['1984']\n",
      "['2000', '20']\n",
      "['2001']\n",
      "['1982']\n",
      "['1998']\n",
      "['2012']\n",
      "['16', '1991']\n",
      "['1988']\n",
      "['25', '2014']\n",
      "['2016']\n",
      "['19', '1976']\n",
      "['1981']\n",
      "['2011']\n",
      "['1997', '911', '911', '911', '300']\n",
      "['2003']\n",
      "['1983']\n",
      "['1999']\n",
      "['2010']\n",
      "['1975']\n",
      "['1972']\n",
      "['2015']\n",
      "['1989']\n",
      "['14', '1994']\n",
      "['1993']\n",
      "['1996']\n",
      "['2013']\n",
      "['1974']\n",
      "['1990']\n",
      "['1995']\n",
      "['2004']\n",
      "['1987']\n",
      "['1973']\n",
      "['1992']\n",
      "['1977']\n",
      "['35', '1985']\n",
      "['12', '969', '2007']\n",
      "['2009']\n",
      "['1986']\n",
      "['1978']\n",
      "['2002']\n",
      "['1979']\n",
      "['2006']\n",
      "['2008']\n",
      "['2005']\n",
      "['1980']\n"
     ]
    }
   ],
   "source": [
    "only_year_good_index = get_good_index(only_year_df)"
   ]
  },
  {
   "cell_type": "code",
   "execution_count": 602,
   "metadata": {
    "collapsed": false
   },
   "outputs": [],
   "source": [
    "combined_df[only_year_good_index] = only_year_df[only_year_good_index]"
   ]
  },
  {
   "cell_type": "code",
   "execution_count": 603,
   "metadata": {
    "collapsed": false
   },
   "outputs": [
    {
     "name": "stdout",
     "output_type": "stream",
     "text": [
      "Dates Missing 0\n",
      "Dates Found 500\n"
     ]
    }
   ],
   "source": [
    "count_empties(combined_df)"
   ]
  },
  {
   "cell_type": "code",
   "execution_count": 609,
   "metadata": {
    "collapsed": false
   },
   "outputs": [
    {
     "data": {
      "text/plain": [
       "'Lithium 0.25 (7/11/77).  LFTS wnl.  Urine tox neg.  Serum tox + fluoxetine 500; otherwise neg.  TSH 3.28.  BUN/Cr: 16/0.83.  Lipids unremarkable.  B12 363, Folate >20.  CBC: 4.9/36/308 Pertinent Medical Review of Systems Constitutional:\\n'"
      ]
     },
     "execution_count": 609,
     "metadata": {},
     "output_type": "execute_result"
    }
   ],
   "source": [
    "df.iloc[72]"
   ]
  },
  {
   "cell_type": "markdown",
   "metadata": {},
   "source": [
    "## data cleaning: fix the random errors"
   ]
  },
  {
   "cell_type": "markdown",
   "metadata": {},
   "source": [
    "### INDICES TO INVESTIGATE\n",
    "- 72 (mm-dd-yyyy): two present\n",
    "- 178, 198, 199 (Jan, Feb, ... format) : returns empty list\n",
    "- "
   ]
  },
  {
   "cell_type": "code",
   "execution_count": 630,
   "metadata": {
    "collapsed": false
   },
   "outputs": [
    {
     "data": {
      "text/plain": [
       "'7/11/77'"
      ]
     },
     "execution_count": 630,
     "metadata": {},
     "output_type": "execute_result"
    }
   ],
   "source": [
    "\"\".join(list(combined_df[72][0]))"
   ]
  },
  {
   "cell_type": "code",
   "execution_count": 621,
   "metadata": {
    "collapsed": false
   },
   "outputs": [],
   "source": [
    "combined_df[72] = ['7/11/77']"
   ]
  },
  {
   "cell_type": "code",
   "execution_count": 622,
   "metadata": {
    "collapsed": false
   },
   "outputs": [
    {
     "data": {
      "text/plain": [
       "50      [11/22/75]\n",
       "51       [5/24/91]\n",
       "52       [6/13/92]\n",
       "53       [7/11/71]\n",
       "54      [12/26/86]\n",
       "55    [10/11/1987]\n",
       "56       [3/14/95]\n",
       "57      [12/01/73]\n",
       "58     [12/5/2010]\n",
       "59    [08/20/1982]\n",
       "60       [7/24/95]\n",
       "61       [8/06/83]\n",
       "62      [02/22/92]\n",
       "63       [6/28/87]\n",
       "64    [07/29/1994]\n",
       "65      [08/11/78]\n",
       "66      [10/29/91]\n",
       "67        [7/6/91]\n",
       "68       [1/21/87]\n",
       "69     [11/3/1985]\n",
       "70       [7/04/82]\n",
       "71       [4-13-89]\n",
       "72       [7/11/77]\n",
       "73       [4/12/74]\n",
       "74      [09/19/81]\n",
       "75        [9/6/79]\n",
       "76       [12/5/87]\n",
       "77    [01/05/1999]\n",
       "78       [4/22/80]\n",
       "79      [10/04/98]\n",
       "80       [6/29/81]\n",
       "81       [8/04/78]\n",
       "82     [7/07/1974]\n",
       "83    [09/14/2000]\n",
       "84       [5/18/71]\n",
       "85     [8/09/1981]\n",
       "86       [6/05/93]\n",
       "87        [8/9/97]\n",
       "88       [12/8/82]\n",
       "89       [8/26/89]\n",
       "90      [10/13/95]\n",
       "91       [4/19/91]\n",
       "92    [04/08/2004]\n",
       "93       [9/20/76]\n",
       "94    [12/08/1990]\n",
       "95     [4/11/1974]\n",
       "96       [7/18/86]\n",
       "97       [3/31/91]\n",
       "98       [5/13/72]\n",
       "99      [11/14/83]\n",
       "dtype: object"
      ]
     },
     "execution_count": 622,
     "metadata": {},
     "output_type": "execute_result"
    }
   ],
   "source": [
    "combined_df[50:100]"
   ]
  },
  {
   "cell_type": "code",
   "execution_count": 3,
   "metadata": {
    "collapsed": true
   },
   "outputs": [],
   "source": [
    "def date_sorter():\n",
    "    \n",
    "    # Your code here\n",
    "    \n",
    "    return # Your answer here"
   ]
  }
 ],
 "metadata": {
  "coursera": {
   "course_slug": "python-text-mining",
   "graded_item_id": "LvcWI",
   "launcher_item_id": "krne9",
   "part_id": "Mkp1I"
  },
  "kernelspec": {
   "display_name": "Python 3",
   "language": "python",
   "name": "python3"
  },
  "language_info": {
   "codemirror_mode": {
    "name": "ipython",
    "version": 3
   },
   "file_extension": ".py",
   "mimetype": "text/x-python",
   "name": "python",
   "nbconvert_exporter": "python",
   "pygments_lexer": "ipython3",
   "version": "3.6.0"
  }
 },
 "nbformat": 4,
 "nbformat_minor": 2
}
